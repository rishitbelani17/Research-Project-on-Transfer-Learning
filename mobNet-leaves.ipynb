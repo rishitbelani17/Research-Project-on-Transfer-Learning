{
 "cells": [
  {
   "cell_type": "code",
   "execution_count": 10,
   "id": "586a43e6",
   "metadata": {},
   "outputs": [],
   "source": [
    "from tensorflow.keras.layers import Input, Lambda, Dense, Flatten \n",
    "from tensorflow.keras.models import Model\n",
    "from tensorflow.keras.applications.mobilenet import MobileNet\n",
    "from tensorflow.keras.preprocessing import image\n",
    "from tensorflow.keras.applications.mobilenet import preprocess_input\n",
    "from tensorflow.keras.preprocessing.image import ImageDataGenerator, load_img\n",
    "from tensorflow.keras.models import Sequential\n",
    "import numpy as np\n",
    "from glob import glob\n",
    "import matplotlib.pyplot as plt"
   ]
  },
  {
   "cell_type": "code",
   "execution_count": 4,
   "id": "aecb40df",
   "metadata": {},
   "outputs": [],
   "source": [
    "import splitfolders\n",
    "import os"
   ]
  },
  {
   "cell_type": "code",
   "execution_count": 5,
   "id": "026f9859",
   "metadata": {},
   "outputs": [
    {
     "name": "stderr",
     "output_type": "stream",
     "text": [
      "Copying files: 1615 files [00:19, 81.32 files/s] \n"
     ]
    }
   ],
   "source": [
    "image_loc = 'D:\\Medicinal Leaf Dataset'\n",
    "\n",
    "splitfolders.ratio(image_loc, output='output', seed=1337, ratio=(0.8,0.1,0.1))"
   ]
  },
  {
   "cell_type": "code",
   "execution_count": 6,
   "id": "88138264",
   "metadata": {},
   "outputs": [],
   "source": [
    "IMAGE_SIZE = [224,224]\n",
    "\n",
    "train_path = 'output\\\\train'\n",
    "validation_path = 'output\\\\test'"
   ]
  },
  {
   "cell_type": "code",
   "execution_count": 11,
   "id": "1541981e",
   "metadata": {},
   "outputs": [
    {
     "name": "stdout",
     "output_type": "stream",
     "text": [
      "Downloading data from https://storage.googleapis.com/tensorflow/keras-applications/mobilenet/mobilenet_1_0_224_tf_no_top.h5\n",
      "17227776/17225924 [==============================] - 3s 0us/step\n",
      "17235968/17225924 [==============================] - 3s 0us/step\n"
     ]
    }
   ],
   "source": [
    "mobNet = MobileNet(input_shape = IMAGE_SIZE + [3], weights = 'imagenet', include_top = False)"
   ]
  },
  {
   "cell_type": "code",
   "execution_count": 12,
   "id": "7e0d76aa",
   "metadata": {},
   "outputs": [
    {
     "name": "stdout",
     "output_type": "stream",
     "text": [
      "Model: \"mobilenet_1.00_224\"\n",
      "_________________________________________________________________\n",
      " Layer (type)                Output Shape              Param #   \n",
      "=================================================================\n",
      " input_1 (InputLayer)        [(None, 224, 224, 3)]     0         \n",
      "                                                                 \n",
      " conv1 (Conv2D)              (None, 112, 112, 32)      864       \n",
      "                                                                 \n",
      " conv1_bn (BatchNormalizatio  (None, 112, 112, 32)     128       \n",
      " n)                                                              \n",
      "                                                                 \n",
      " conv1_relu (ReLU)           (None, 112, 112, 32)      0         \n",
      "                                                                 \n",
      " conv_dw_1 (DepthwiseConv2D)  (None, 112, 112, 32)     288       \n",
      "                                                                 \n",
      " conv_dw_1_bn (BatchNormaliz  (None, 112, 112, 32)     128       \n",
      " ation)                                                          \n",
      "                                                                 \n",
      " conv_dw_1_relu (ReLU)       (None, 112, 112, 32)      0         \n",
      "                                                                 \n",
      " conv_pw_1 (Conv2D)          (None, 112, 112, 64)      2048      \n",
      "                                                                 \n",
      " conv_pw_1_bn (BatchNormaliz  (None, 112, 112, 64)     256       \n",
      " ation)                                                          \n",
      "                                                                 \n",
      " conv_pw_1_relu (ReLU)       (None, 112, 112, 64)      0         \n",
      "                                                                 \n",
      " conv_pad_2 (ZeroPadding2D)  (None, 113, 113, 64)      0         \n",
      "                                                                 \n",
      " conv_dw_2 (DepthwiseConv2D)  (None, 56, 56, 64)       576       \n",
      "                                                                 \n",
      " conv_dw_2_bn (BatchNormaliz  (None, 56, 56, 64)       256       \n",
      " ation)                                                          \n",
      "                                                                 \n",
      " conv_dw_2_relu (ReLU)       (None, 56, 56, 64)        0         \n",
      "                                                                 \n",
      " conv_pw_2 (Conv2D)          (None, 56, 56, 128)       8192      \n",
      "                                                                 \n",
      " conv_pw_2_bn (BatchNormaliz  (None, 56, 56, 128)      512       \n",
      " ation)                                                          \n",
      "                                                                 \n",
      " conv_pw_2_relu (ReLU)       (None, 56, 56, 128)       0         \n",
      "                                                                 \n",
      " conv_dw_3 (DepthwiseConv2D)  (None, 56, 56, 128)      1152      \n",
      "                                                                 \n",
      " conv_dw_3_bn (BatchNormaliz  (None, 56, 56, 128)      512       \n",
      " ation)                                                          \n",
      "                                                                 \n",
      " conv_dw_3_relu (ReLU)       (None, 56, 56, 128)       0         \n",
      "                                                                 \n",
      " conv_pw_3 (Conv2D)          (None, 56, 56, 128)       16384     \n",
      "                                                                 \n",
      " conv_pw_3_bn (BatchNormaliz  (None, 56, 56, 128)      512       \n",
      " ation)                                                          \n",
      "                                                                 \n",
      " conv_pw_3_relu (ReLU)       (None, 56, 56, 128)       0         \n",
      "                                                                 \n",
      " conv_pad_4 (ZeroPadding2D)  (None, 57, 57, 128)       0         \n",
      "                                                                 \n",
      " conv_dw_4 (DepthwiseConv2D)  (None, 28, 28, 128)      1152      \n",
      "                                                                 \n",
      " conv_dw_4_bn (BatchNormaliz  (None, 28, 28, 128)      512       \n",
      " ation)                                                          \n",
      "                                                                 \n",
      " conv_dw_4_relu (ReLU)       (None, 28, 28, 128)       0         \n",
      "                                                                 \n",
      " conv_pw_4 (Conv2D)          (None, 28, 28, 256)       32768     \n",
      "                                                                 \n",
      " conv_pw_4_bn (BatchNormaliz  (None, 28, 28, 256)      1024      \n",
      " ation)                                                          \n",
      "                                                                 \n",
      " conv_pw_4_relu (ReLU)       (None, 28, 28, 256)       0         \n",
      "                                                                 \n",
      " conv_dw_5 (DepthwiseConv2D)  (None, 28, 28, 256)      2304      \n",
      "                                                                 \n",
      " conv_dw_5_bn (BatchNormaliz  (None, 28, 28, 256)      1024      \n",
      " ation)                                                          \n",
      "                                                                 \n",
      " conv_dw_5_relu (ReLU)       (None, 28, 28, 256)       0         \n",
      "                                                                 \n",
      " conv_pw_5 (Conv2D)          (None, 28, 28, 256)       65536     \n",
      "                                                                 \n",
      " conv_pw_5_bn (BatchNormaliz  (None, 28, 28, 256)      1024      \n",
      " ation)                                                          \n",
      "                                                                 \n",
      " conv_pw_5_relu (ReLU)       (None, 28, 28, 256)       0         \n",
      "                                                                 \n",
      " conv_pad_6 (ZeroPadding2D)  (None, 29, 29, 256)       0         \n",
      "                                                                 \n",
      " conv_dw_6 (DepthwiseConv2D)  (None, 14, 14, 256)      2304      \n",
      "                                                                 \n",
      " conv_dw_6_bn (BatchNormaliz  (None, 14, 14, 256)      1024      \n",
      " ation)                                                          \n",
      "                                                                 \n",
      " conv_dw_6_relu (ReLU)       (None, 14, 14, 256)       0         \n",
      "                                                                 \n",
      " conv_pw_6 (Conv2D)          (None, 14, 14, 512)       131072    \n",
      "                                                                 \n",
      " conv_pw_6_bn (BatchNormaliz  (None, 14, 14, 512)      2048      \n",
      " ation)                                                          \n",
      "                                                                 \n",
      " conv_pw_6_relu (ReLU)       (None, 14, 14, 512)       0         \n",
      "                                                                 \n",
      " conv_dw_7 (DepthwiseConv2D)  (None, 14, 14, 512)      4608      \n",
      "                                                                 \n",
      " conv_dw_7_bn (BatchNormaliz  (None, 14, 14, 512)      2048      \n",
      " ation)                                                          \n",
      "                                                                 \n",
      " conv_dw_7_relu (ReLU)       (None, 14, 14, 512)       0         \n",
      "                                                                 \n",
      " conv_pw_7 (Conv2D)          (None, 14, 14, 512)       262144    \n",
      "                                                                 \n",
      " conv_pw_7_bn (BatchNormaliz  (None, 14, 14, 512)      2048      \n",
      " ation)                                                          \n",
      "                                                                 \n",
      " conv_pw_7_relu (ReLU)       (None, 14, 14, 512)       0         \n",
      "                                                                 \n",
      " conv_dw_8 (DepthwiseConv2D)  (None, 14, 14, 512)      4608      \n",
      "                                                                 \n",
      " conv_dw_8_bn (BatchNormaliz  (None, 14, 14, 512)      2048      \n",
      " ation)                                                          \n",
      "                                                                 \n",
      " conv_dw_8_relu (ReLU)       (None, 14, 14, 512)       0         \n",
      "                                                                 \n",
      " conv_pw_8 (Conv2D)          (None, 14, 14, 512)       262144    \n",
      "                                                                 \n",
      " conv_pw_8_bn (BatchNormaliz  (None, 14, 14, 512)      2048      \n",
      " ation)                                                          \n",
      "                                                                 \n",
      " conv_pw_8_relu (ReLU)       (None, 14, 14, 512)       0         \n",
      "                                                                 \n",
      " conv_dw_9 (DepthwiseConv2D)  (None, 14, 14, 512)      4608      \n",
      "                                                                 \n",
      " conv_dw_9_bn (BatchNormaliz  (None, 14, 14, 512)      2048      \n",
      " ation)                                                          \n",
      "                                                                 \n",
      " conv_dw_9_relu (ReLU)       (None, 14, 14, 512)       0         \n",
      "                                                                 \n",
      " conv_pw_9 (Conv2D)          (None, 14, 14, 512)       262144    \n",
      "                                                                 \n",
      " conv_pw_9_bn (BatchNormaliz  (None, 14, 14, 512)      2048      \n",
      " ation)                                                          \n",
      "                                                                 \n",
      " conv_pw_9_relu (ReLU)       (None, 14, 14, 512)       0         \n",
      "                                                                 \n",
      " conv_dw_10 (DepthwiseConv2D  (None, 14, 14, 512)      4608      \n",
      " )                                                               \n",
      "                                                                 \n",
      " conv_dw_10_bn (BatchNormali  (None, 14, 14, 512)      2048      \n",
      " zation)                                                         \n",
      "                                                                 \n",
      " conv_dw_10_relu (ReLU)      (None, 14, 14, 512)       0         \n",
      "                                                                 \n",
      " conv_pw_10 (Conv2D)         (None, 14, 14, 512)       262144    \n",
      "                                                                 \n",
      " conv_pw_10_bn (BatchNormali  (None, 14, 14, 512)      2048      \n",
      " zation)                                                         \n",
      "                                                                 \n",
      " conv_pw_10_relu (ReLU)      (None, 14, 14, 512)       0         \n",
      "                                                                 \n",
      " conv_dw_11 (DepthwiseConv2D  (None, 14, 14, 512)      4608      \n",
      " )                                                               \n",
      "                                                                 \n",
      " conv_dw_11_bn (BatchNormali  (None, 14, 14, 512)      2048      \n",
      " zation)                                                         \n",
      "                                                                 \n",
      " conv_dw_11_relu (ReLU)      (None, 14, 14, 512)       0         \n",
      "                                                                 \n",
      " conv_pw_11 (Conv2D)         (None, 14, 14, 512)       262144    \n",
      "                                                                 \n",
      " conv_pw_11_bn (BatchNormali  (None, 14, 14, 512)      2048      \n",
      " zation)                                                         \n",
      "                                                                 \n",
      " conv_pw_11_relu (ReLU)      (None, 14, 14, 512)       0         \n",
      "                                                                 \n",
      " conv_pad_12 (ZeroPadding2D)  (None, 15, 15, 512)      0         \n",
      "                                                                 \n",
      " conv_dw_12 (DepthwiseConv2D  (None, 7, 7, 512)        4608      \n",
      " )                                                               \n",
      "                                                                 \n",
      " conv_dw_12_bn (BatchNormali  (None, 7, 7, 512)        2048      \n",
      " zation)                                                         \n",
      "                                                                 \n",
      " conv_dw_12_relu (ReLU)      (None, 7, 7, 512)         0         \n",
      "                                                                 \n",
      " conv_pw_12 (Conv2D)         (None, 7, 7, 1024)        524288    \n",
      "                                                                 \n",
      " conv_pw_12_bn (BatchNormali  (None, 7, 7, 1024)       4096      \n",
      " zation)                                                         \n",
      "                                                                 \n",
      " conv_pw_12_relu (ReLU)      (None, 7, 7, 1024)        0         \n",
      "                                                                 \n",
      " conv_dw_13 (DepthwiseConv2D  (None, 7, 7, 1024)       9216      \n",
      " )                                                               \n",
      "                                                                 \n",
      " conv_dw_13_bn (BatchNormali  (None, 7, 7, 1024)       4096      \n",
      " zation)                                                         \n",
      "                                                                 \n",
      " conv_dw_13_relu (ReLU)      (None, 7, 7, 1024)        0         \n",
      "                                                                 \n",
      " conv_pw_13 (Conv2D)         (None, 7, 7, 1024)        1048576   \n",
      "                                                                 \n",
      " conv_pw_13_bn (BatchNormali  (None, 7, 7, 1024)       4096      \n",
      " zation)                                                         \n",
      "                                                                 \n",
      " conv_pw_13_relu (ReLU)      (None, 7, 7, 1024)        0         \n",
      "                                                                 \n",
      "=================================================================\n",
      "Total params: 3,228,864\n",
      "Trainable params: 3,206,976\n",
      "Non-trainable params: 21,888\n",
      "_________________________________________________________________\n"
     ]
    }
   ],
   "source": [
    "mobNet.summary()"
   ]
  },
  {
   "cell_type": "code",
   "execution_count": 14,
   "id": "0f6ec2d2",
   "metadata": {},
   "outputs": [],
   "source": [
    "for layer in mobNet.layers:\n",
    "    layer.trainable = False"
   ]
  },
  {
   "cell_type": "code",
   "execution_count": 15,
   "id": "2b6c0bd9",
   "metadata": {},
   "outputs": [],
   "source": [
    "folders = glob('D:\\Medicinal Leaf Dataset\\*')"
   ]
  },
  {
   "cell_type": "code",
   "execution_count": 17,
   "id": "28183395",
   "metadata": {},
   "outputs": [],
   "source": [
    "x = Flatten()(mobNet.output)"
   ]
  },
  {
   "cell_type": "code",
   "execution_count": 18,
   "id": "1dd46e90",
   "metadata": {},
   "outputs": [],
   "source": [
    "prediction = Dense(len(folders), activation = 'softmax')(x)\n",
    "\n",
    "model = Model(inputs = mobNet.input, outputs = prediction)"
   ]
  },
  {
   "cell_type": "code",
   "execution_count": 19,
   "id": "e1edf77d",
   "metadata": {},
   "outputs": [
    {
     "name": "stdout",
     "output_type": "stream",
     "text": [
      "Model: \"model\"\n",
      "_________________________________________________________________\n",
      " Layer (type)                Output Shape              Param #   \n",
      "=================================================================\n",
      " input_1 (InputLayer)        [(None, 224, 224, 3)]     0         \n",
      "                                                                 \n",
      " conv1 (Conv2D)              (None, 112, 112, 32)      864       \n",
      "                                                                 \n",
      " conv1_bn (BatchNormalizatio  (None, 112, 112, 32)     128       \n",
      " n)                                                              \n",
      "                                                                 \n",
      " conv1_relu (ReLU)           (None, 112, 112, 32)      0         \n",
      "                                                                 \n",
      " conv_dw_1 (DepthwiseConv2D)  (None, 112, 112, 32)     288       \n",
      "                                                                 \n",
      " conv_dw_1_bn (BatchNormaliz  (None, 112, 112, 32)     128       \n",
      " ation)                                                          \n",
      "                                                                 \n",
      " conv_dw_1_relu (ReLU)       (None, 112, 112, 32)      0         \n",
      "                                                                 \n",
      " conv_pw_1 (Conv2D)          (None, 112, 112, 64)      2048      \n",
      "                                                                 \n",
      " conv_pw_1_bn (BatchNormaliz  (None, 112, 112, 64)     256       \n",
      " ation)                                                          \n",
      "                                                                 \n",
      " conv_pw_1_relu (ReLU)       (None, 112, 112, 64)      0         \n",
      "                                                                 \n",
      " conv_pad_2 (ZeroPadding2D)  (None, 113, 113, 64)      0         \n",
      "                                                                 \n",
      " conv_dw_2 (DepthwiseConv2D)  (None, 56, 56, 64)       576       \n",
      "                                                                 \n",
      " conv_dw_2_bn (BatchNormaliz  (None, 56, 56, 64)       256       \n",
      " ation)                                                          \n",
      "                                                                 \n",
      " conv_dw_2_relu (ReLU)       (None, 56, 56, 64)        0         \n",
      "                                                                 \n",
      " conv_pw_2 (Conv2D)          (None, 56, 56, 128)       8192      \n",
      "                                                                 \n",
      " conv_pw_2_bn (BatchNormaliz  (None, 56, 56, 128)      512       \n",
      " ation)                                                          \n",
      "                                                                 \n",
      " conv_pw_2_relu (ReLU)       (None, 56, 56, 128)       0         \n",
      "                                                                 \n",
      " conv_dw_3 (DepthwiseConv2D)  (None, 56, 56, 128)      1152      \n",
      "                                                                 \n",
      " conv_dw_3_bn (BatchNormaliz  (None, 56, 56, 128)      512       \n",
      " ation)                                                          \n",
      "                                                                 \n",
      " conv_dw_3_relu (ReLU)       (None, 56, 56, 128)       0         \n",
      "                                                                 \n",
      " conv_pw_3 (Conv2D)          (None, 56, 56, 128)       16384     \n",
      "                                                                 \n",
      " conv_pw_3_bn (BatchNormaliz  (None, 56, 56, 128)      512       \n",
      " ation)                                                          \n",
      "                                                                 \n",
      " conv_pw_3_relu (ReLU)       (None, 56, 56, 128)       0         \n",
      "                                                                 \n",
      " conv_pad_4 (ZeroPadding2D)  (None, 57, 57, 128)       0         \n",
      "                                                                 \n",
      " conv_dw_4 (DepthwiseConv2D)  (None, 28, 28, 128)      1152      \n",
      "                                                                 \n",
      " conv_dw_4_bn (BatchNormaliz  (None, 28, 28, 128)      512       \n",
      " ation)                                                          \n",
      "                                                                 \n",
      " conv_dw_4_relu (ReLU)       (None, 28, 28, 128)       0         \n",
      "                                                                 \n",
      " conv_pw_4 (Conv2D)          (None, 28, 28, 256)       32768     \n",
      "                                                                 \n",
      " conv_pw_4_bn (BatchNormaliz  (None, 28, 28, 256)      1024      \n",
      " ation)                                                          \n",
      "                                                                 \n",
      " conv_pw_4_relu (ReLU)       (None, 28, 28, 256)       0         \n",
      "                                                                 \n",
      " conv_dw_5 (DepthwiseConv2D)  (None, 28, 28, 256)      2304      \n",
      "                                                                 \n",
      " conv_dw_5_bn (BatchNormaliz  (None, 28, 28, 256)      1024      \n",
      " ation)                                                          \n",
      "                                                                 \n",
      " conv_dw_5_relu (ReLU)       (None, 28, 28, 256)       0         \n",
      "                                                                 \n",
      " conv_pw_5 (Conv2D)          (None, 28, 28, 256)       65536     \n",
      "                                                                 \n",
      " conv_pw_5_bn (BatchNormaliz  (None, 28, 28, 256)      1024      \n",
      " ation)                                                          \n",
      "                                                                 \n",
      " conv_pw_5_relu (ReLU)       (None, 28, 28, 256)       0         \n",
      "                                                                 \n",
      " conv_pad_6 (ZeroPadding2D)  (None, 29, 29, 256)       0         \n",
      "                                                                 \n",
      " conv_dw_6 (DepthwiseConv2D)  (None, 14, 14, 256)      2304      \n",
      "                                                                 \n",
      " conv_dw_6_bn (BatchNormaliz  (None, 14, 14, 256)      1024      \n",
      " ation)                                                          \n",
      "                                                                 \n",
      " conv_dw_6_relu (ReLU)       (None, 14, 14, 256)       0         \n",
      "                                                                 \n",
      " conv_pw_6 (Conv2D)          (None, 14, 14, 512)       131072    \n",
      "                                                                 \n",
      " conv_pw_6_bn (BatchNormaliz  (None, 14, 14, 512)      2048      \n",
      " ation)                                                          \n",
      "                                                                 \n",
      " conv_pw_6_relu (ReLU)       (None, 14, 14, 512)       0         \n",
      "                                                                 \n",
      " conv_dw_7 (DepthwiseConv2D)  (None, 14, 14, 512)      4608      \n",
      "                                                                 \n",
      " conv_dw_7_bn (BatchNormaliz  (None, 14, 14, 512)      2048      \n",
      " ation)                                                          \n",
      "                                                                 \n",
      " conv_dw_7_relu (ReLU)       (None, 14, 14, 512)       0         \n",
      "                                                                 \n",
      " conv_pw_7 (Conv2D)          (None, 14, 14, 512)       262144    \n",
      "                                                                 \n",
      " conv_pw_7_bn (BatchNormaliz  (None, 14, 14, 512)      2048      \n",
      " ation)                                                          \n",
      "                                                                 \n",
      " conv_pw_7_relu (ReLU)       (None, 14, 14, 512)       0         \n",
      "                                                                 \n",
      " conv_dw_8 (DepthwiseConv2D)  (None, 14, 14, 512)      4608      \n",
      "                                                                 \n",
      " conv_dw_8_bn (BatchNormaliz  (None, 14, 14, 512)      2048      \n",
      " ation)                                                          \n",
      "                                                                 \n",
      " conv_dw_8_relu (ReLU)       (None, 14, 14, 512)       0         \n",
      "                                                                 \n",
      " conv_pw_8 (Conv2D)          (None, 14, 14, 512)       262144    \n",
      "                                                                 \n",
      " conv_pw_8_bn (BatchNormaliz  (None, 14, 14, 512)      2048      \n",
      " ation)                                                          \n",
      "                                                                 \n",
      " conv_pw_8_relu (ReLU)       (None, 14, 14, 512)       0         \n",
      "                                                                 \n",
      " conv_dw_9 (DepthwiseConv2D)  (None, 14, 14, 512)      4608      \n",
      "                                                                 \n",
      " conv_dw_9_bn (BatchNormaliz  (None, 14, 14, 512)      2048      \n",
      " ation)                                                          \n",
      "                                                                 \n",
      " conv_dw_9_relu (ReLU)       (None, 14, 14, 512)       0         \n",
      "                                                                 \n",
      " conv_pw_9 (Conv2D)          (None, 14, 14, 512)       262144    \n",
      "                                                                 \n",
      " conv_pw_9_bn (BatchNormaliz  (None, 14, 14, 512)      2048      \n",
      " ation)                                                          \n",
      "                                                                 \n",
      " conv_pw_9_relu (ReLU)       (None, 14, 14, 512)       0         \n",
      "                                                                 \n",
      " conv_dw_10 (DepthwiseConv2D  (None, 14, 14, 512)      4608      \n",
      " )                                                               \n",
      "                                                                 \n",
      " conv_dw_10_bn (BatchNormali  (None, 14, 14, 512)      2048      \n",
      " zation)                                                         \n",
      "                                                                 \n",
      " conv_dw_10_relu (ReLU)      (None, 14, 14, 512)       0         \n",
      "                                                                 \n",
      " conv_pw_10 (Conv2D)         (None, 14, 14, 512)       262144    \n",
      "                                                                 \n",
      " conv_pw_10_bn (BatchNormali  (None, 14, 14, 512)      2048      \n",
      " zation)                                                         \n",
      "                                                                 \n",
      " conv_pw_10_relu (ReLU)      (None, 14, 14, 512)       0         \n",
      "                                                                 \n",
      " conv_dw_11 (DepthwiseConv2D  (None, 14, 14, 512)      4608      \n",
      " )                                                               \n",
      "                                                                 \n",
      " conv_dw_11_bn (BatchNormali  (None, 14, 14, 512)      2048      \n",
      " zation)                                                         \n",
      "                                                                 \n",
      " conv_dw_11_relu (ReLU)      (None, 14, 14, 512)       0         \n",
      "                                                                 \n",
      " conv_pw_11 (Conv2D)         (None, 14, 14, 512)       262144    \n",
      "                                                                 \n",
      " conv_pw_11_bn (BatchNormali  (None, 14, 14, 512)      2048      \n",
      " zation)                                                         \n",
      "                                                                 \n",
      " conv_pw_11_relu (ReLU)      (None, 14, 14, 512)       0         \n",
      "                                                                 \n",
      " conv_pad_12 (ZeroPadding2D)  (None, 15, 15, 512)      0         \n",
      "                                                                 \n",
      " conv_dw_12 (DepthwiseConv2D  (None, 7, 7, 512)        4608      \n",
      " )                                                               \n",
      "                                                                 \n",
      " conv_dw_12_bn (BatchNormali  (None, 7, 7, 512)        2048      \n",
      " zation)                                                         \n",
      "                                                                 \n",
      " conv_dw_12_relu (ReLU)      (None, 7, 7, 512)         0         \n",
      "                                                                 \n",
      " conv_pw_12 (Conv2D)         (None, 7, 7, 1024)        524288    \n",
      "                                                                 \n",
      " conv_pw_12_bn (BatchNormali  (None, 7, 7, 1024)       4096      \n",
      " zation)                                                         \n",
      "                                                                 \n",
      " conv_pw_12_relu (ReLU)      (None, 7, 7, 1024)        0         \n",
      "                                                                 \n",
      " conv_dw_13 (DepthwiseConv2D  (None, 7, 7, 1024)       9216      \n",
      " )                                                               \n",
      "                                                                 \n",
      " conv_dw_13_bn (BatchNormali  (None, 7, 7, 1024)       4096      \n",
      " zation)                                                         \n",
      "                                                                 \n",
      " conv_dw_13_relu (ReLU)      (None, 7, 7, 1024)        0         \n",
      "                                                                 \n",
      " conv_pw_13 (Conv2D)         (None, 7, 7, 1024)        1048576   \n",
      "                                                                 \n",
      " conv_pw_13_bn (BatchNormali  (None, 7, 7, 1024)       4096      \n",
      " zation)                                                         \n",
      "                                                                 \n",
      " conv_pw_13_relu (ReLU)      (None, 7, 7, 1024)        0         \n",
      "                                                                 \n",
      " flatten_1 (Flatten)         (None, 50176)             0         \n",
      "                                                                 \n",
      " dense (Dense)               (None, 26)                1304602   \n",
      "                                                                 \n",
      "=================================================================\n",
      "Total params: 4,533,466\n",
      "Trainable params: 1,304,602\n",
      "Non-trainable params: 3,228,864\n",
      "_________________________________________________________________\n"
     ]
    }
   ],
   "source": [
    "model.summary()"
   ]
  },
  {
   "cell_type": "code",
   "execution_count": 20,
   "id": "b9567e18",
   "metadata": {},
   "outputs": [],
   "source": [
    "model.compile(\n",
    "loss = 'categorical_crossentropy',optimizer = 'adam',metrics = ['accuracy'])"
   ]
  },
  {
   "cell_type": "code",
   "execution_count": 21,
   "id": "f6664f2a",
   "metadata": {},
   "outputs": [],
   "source": [
    "from tensorflow.keras.preprocessing.image import ImageDataGenerator\n",
    "\n",
    "train_dataGen = ImageDataGenerator(rescale=1./255,\n",
    "                                   shear_range = 0.2,\n",
    "                                   zoom_range = 0.2,\n",
    "                                   horizontal_flip = True)\n",
    "\n",
    "test_dataGen  = ImageDataGenerator(rescale = 1./255)"
   ]
  },
  {
   "cell_type": "code",
   "execution_count": 22,
   "id": "5bbea049",
   "metadata": {},
   "outputs": [
    {
     "name": "stdout",
     "output_type": "stream",
     "text": [
      "Found 1360 images belonging to 26 classes.\n"
     ]
    }
   ],
   "source": [
    "training_set = train_dataGen.flow_from_directory('output\\\\train',\n",
    "                                                  target_size = (224,224),\n",
    "                                                  batch_size = 32,\n",
    "                                                  class_mode = 'categorical'\n",
    "                                                )"
   ]
  },
  {
   "cell_type": "code",
   "execution_count": 23,
   "id": "fe4eaaf0",
   "metadata": {},
   "outputs": [
    {
     "name": "stdout",
     "output_type": "stream",
     "text": [
      "Found 333 images belonging to 26 classes.\n"
     ]
    }
   ],
   "source": [
    "val_set = train_dataGen.flow_from_directory('output\\\\val',\n",
    "                                                  target_size = (224,224),\n",
    "                                                  batch_size = 32,\n",
    "                                                  class_mode = 'categorical'\n",
    "                                                )"
   ]
  },
  {
   "cell_type": "code",
   "execution_count": 24,
   "id": "448d1877",
   "metadata": {},
   "outputs": [
    {
     "name": "stderr",
     "output_type": "stream",
     "text": [
      "<ipython-input-24-5c48062396c1>:1: UserWarning: `Model.fit_generator` is deprecated and will be removed in a future version. Please use `Model.fit`, which supports generators.\n",
      "  r = model.fit_generator(\n"
     ]
    },
    {
     "name": "stdout",
     "output_type": "stream",
     "text": [
      "Epoch 1/50\n",
      "43/43 [==============================] - 99s 2s/step - loss: 3.7846 - accuracy: 0.7390 - val_loss: 0.5674 - val_accuracy: 0.9399\n",
      "Epoch 2/50\n",
      "43/43 [==============================] - 89s 2s/step - loss: 0.3138 - accuracy: 0.9625 - val_loss: 0.2717 - val_accuracy: 0.9730\n",
      "Epoch 3/50\n",
      "43/43 [==============================] - 89s 2s/step - loss: 0.4611 - accuracy: 0.9588 - val_loss: 0.4319 - val_accuracy: 0.9489\n",
      "Epoch 4/50\n",
      "43/43 [==============================] - 89s 2s/step - loss: 0.1987 - accuracy: 0.9765 - val_loss: 0.9114 - val_accuracy: 0.9309\n",
      "Epoch 5/50\n",
      "43/43 [==============================] - 89s 2s/step - loss: 0.2556 - accuracy: 0.9743 - val_loss: 0.1700 - val_accuracy: 0.9910\n",
      "Epoch 6/50\n",
      "43/43 [==============================] - 89s 2s/step - loss: 0.0728 - accuracy: 0.9853 - val_loss: 0.1996 - val_accuracy: 0.9820\n",
      "Epoch 7/50\n",
      "43/43 [==============================] - 90s 2s/step - loss: 0.1239 - accuracy: 0.9853 - val_loss: 1.0974 - val_accuracy: 0.9249\n",
      "Epoch 8/50\n",
      "43/43 [==============================] - 90s 2s/step - loss: 0.1606 - accuracy: 0.9816 - val_loss: 0.6278 - val_accuracy: 0.9700\n",
      "Epoch 9/50\n",
      "43/43 [==============================] - 90s 2s/step - loss: 0.0909 - accuracy: 0.9868 - val_loss: 0.2078 - val_accuracy: 0.9820\n",
      "Epoch 10/50\n",
      "43/43 [==============================] - 89s 2s/step - loss: 0.0963 - accuracy: 0.9912 - val_loss: 0.6776 - val_accuracy: 0.9640\n",
      "Epoch 11/50\n",
      "43/43 [==============================] - 89s 2s/step - loss: 0.1361 - accuracy: 0.9882 - val_loss: 0.5128 - val_accuracy: 0.9700\n",
      "Epoch 12/50\n",
      "43/43 [==============================] - 89s 2s/step - loss: 0.2112 - accuracy: 0.9824 - val_loss: 0.5196 - val_accuracy: 0.9610\n",
      "Epoch 13/50\n",
      "43/43 [==============================] - 89s 2s/step - loss: 0.1204 - accuracy: 0.9875 - val_loss: 0.5344 - val_accuracy: 0.9640\n",
      "Epoch 14/50\n",
      "43/43 [==============================] - 89s 2s/step - loss: 0.0705 - accuracy: 0.9934 - val_loss: 0.1804 - val_accuracy: 0.9820\n",
      "Epoch 15/50\n",
      "43/43 [==============================] - 89s 2s/step - loss: 0.0015 - accuracy: 0.9993 - val_loss: 0.2159 - val_accuracy: 0.9850\n",
      "Epoch 16/50\n",
      "43/43 [==============================] - 89s 2s/step - loss: 0.0161 - accuracy: 0.9985 - val_loss: 0.3954 - val_accuracy: 0.9820\n",
      "Epoch 17/50\n",
      "43/43 [==============================] - 89s 2s/step - loss: 0.0104 - accuracy: 0.9971 - val_loss: 0.1058 - val_accuracy: 0.9880\n",
      "Epoch 18/50\n",
      "43/43 [==============================] - 90s 2s/step - loss: 0.0531 - accuracy: 0.9949 - val_loss: 0.2113 - val_accuracy: 0.9790\n",
      "Epoch 19/50\n",
      "43/43 [==============================] - 89s 2s/step - loss: 0.0875 - accuracy: 0.9949 - val_loss: 0.2964 - val_accuracy: 0.9820\n",
      "Epoch 20/50\n",
      "43/43 [==============================] - 89s 2s/step - loss: 0.1026 - accuracy: 0.9926 - val_loss: 0.5672 - val_accuracy: 0.9730\n",
      "Epoch 21/50\n",
      "43/43 [==============================] - 90s 2s/step - loss: 0.2086 - accuracy: 0.9860 - val_loss: 0.5285 - val_accuracy: 0.9670\n",
      "Epoch 22/50\n",
      "43/43 [==============================] - 90s 2s/step - loss: 0.1825 - accuracy: 0.9882 - val_loss: 0.6486 - val_accuracy: 0.9489\n",
      "Epoch 23/50\n",
      "43/43 [==============================] - 89s 2s/step - loss: 0.1458 - accuracy: 0.9860 - val_loss: 0.4496 - val_accuracy: 0.9790\n",
      "Epoch 24/50\n",
      "43/43 [==============================] - 89s 2s/step - loss: 0.0730 - accuracy: 0.9897 - val_loss: 0.4472 - val_accuracy: 0.9790\n",
      "Epoch 25/50\n",
      "43/43 [==============================] - 90s 2s/step - loss: 0.0950 - accuracy: 0.9912 - val_loss: 1.0329 - val_accuracy: 0.9279\n",
      "Epoch 26/50\n",
      "43/43 [==============================] - 89s 2s/step - loss: 0.2128 - accuracy: 0.9787 - val_loss: 0.4151 - val_accuracy: 0.9670\n",
      "Epoch 27/50\n",
      "43/43 [==============================] - 89s 2s/step - loss: 0.0868 - accuracy: 0.9897 - val_loss: 0.4740 - val_accuracy: 0.9790\n",
      "Epoch 28/50\n",
      "43/43 [==============================] - 90s 2s/step - loss: 0.1191 - accuracy: 0.9904 - val_loss: 0.1283 - val_accuracy: 0.9910\n",
      "Epoch 29/50\n",
      "43/43 [==============================] - 90s 2s/step - loss: 0.1155 - accuracy: 0.9949 - val_loss: 0.1878 - val_accuracy: 0.9910\n",
      "Epoch 30/50\n",
      "43/43 [==============================] - 90s 2s/step - loss: 0.0270 - accuracy: 0.9949 - val_loss: 0.4072 - val_accuracy: 0.9820\n",
      "Epoch 31/50\n",
      "43/43 [==============================] - 90s 2s/step - loss: 0.1987 - accuracy: 0.9897 - val_loss: 0.9698 - val_accuracy: 0.9580\n",
      "Epoch 32/50\n",
      "43/43 [==============================] - 89s 2s/step - loss: 0.0966 - accuracy: 0.9934 - val_loss: 0.8040 - val_accuracy: 0.9610\n",
      "Epoch 33/50\n",
      "43/43 [==============================] - 90s 2s/step - loss: 0.1828 - accuracy: 0.9853 - val_loss: 0.6023 - val_accuracy: 0.9790\n",
      "Epoch 34/50\n",
      "43/43 [==============================] - 90s 2s/step - loss: 0.2139 - accuracy: 0.9890 - val_loss: 0.7540 - val_accuracy: 0.9790\n",
      "Epoch 35/50\n",
      "43/43 [==============================] - 89s 2s/step - loss: 0.0846 - accuracy: 0.9934 - val_loss: 1.2054 - val_accuracy: 0.9610\n",
      "Epoch 36/50\n",
      "43/43 [==============================] - 90s 2s/step - loss: 0.0477 - accuracy: 0.9971 - val_loss: 1.0333 - val_accuracy: 0.9700\n",
      "Epoch 37/50\n",
      "43/43 [==============================] - 89s 2s/step - loss: 0.1132 - accuracy: 0.9963 - val_loss: 0.9066 - val_accuracy: 0.9700\n",
      "Epoch 38/50\n",
      "43/43 [==============================] - 90s 2s/step - loss: 0.0260 - accuracy: 0.9978 - val_loss: 0.9660 - val_accuracy: 0.9760\n",
      "Epoch 39/50\n",
      "43/43 [==============================] - 90s 2s/step - loss: 0.0387 - accuracy: 0.9971 - val_loss: 1.0322 - val_accuracy: 0.9730\n",
      "Epoch 40/50\n",
      "43/43 [==============================] - 90s 2s/step - loss: 0.0514 - accuracy: 0.9963 - val_loss: 0.8710 - val_accuracy: 0.9790\n",
      "Epoch 41/50\n",
      "43/43 [==============================] - 89s 2s/step - loss: 0.0728 - accuracy: 0.9971 - val_loss: 0.8395 - val_accuracy: 0.9730\n",
      "Epoch 42/50\n",
      "43/43 [==============================] - 90s 2s/step - loss: 0.0340 - accuracy: 0.9963 - val_loss: 1.1343 - val_accuracy: 0.9760\n",
      "Epoch 43/50\n",
      "43/43 [==============================] - 89s 2s/step - loss: 0.0669 - accuracy: 0.9963 - val_loss: 0.7500 - val_accuracy: 0.9790\n",
      "Epoch 44/50\n",
      "43/43 [==============================] - 90s 2s/step - loss: 0.0164 - accuracy: 0.9971 - val_loss: 0.6147 - val_accuracy: 0.9850\n",
      "Epoch 45/50\n",
      "43/43 [==============================] - 90s 2s/step - loss: 0.0144 - accuracy: 0.9978 - val_loss: 0.8150 - val_accuracy: 0.9850\n",
      "Epoch 46/50\n",
      "43/43 [==============================] - 90s 2s/step - loss: 0.0285 - accuracy: 0.9971 - val_loss: 0.7788 - val_accuracy: 0.9850\n",
      "Epoch 47/50\n",
      "43/43 [==============================] - 90s 2s/step - loss: 6.3286e-07 - accuracy: 1.0000 - val_loss: 0.7945 - val_accuracy: 0.9820\n",
      "Epoch 48/50\n",
      "43/43 [==============================] - 90s 2s/step - loss: 0.0164 - accuracy: 0.9978 - val_loss: 0.7426 - val_accuracy: 0.9790\n",
      "Epoch 49/50\n",
      "43/43 [==============================] - 89s 2s/step - loss: 0.0274 - accuracy: 0.9985 - val_loss: 0.6260 - val_accuracy: 0.9910\n",
      "Epoch 50/50\n",
      "43/43 [==============================] - 90s 2s/step - loss: 4.7146e-05 - accuracy: 1.0000 - val_loss: 0.7784 - val_accuracy: 0.9880\n"
     ]
    }
   ],
   "source": [
    "r = model.fit_generator(\n",
    "training_set,\n",
    "validation_data = val_set,epochs = 50,\n",
    "steps_per_epoch = len(training_set),\n",
    "validation_steps = len(val_set)\n",
    ")"
   ]
  },
  {
   "cell_type": "code",
   "execution_count": 25,
   "id": "57bbe0b1",
   "metadata": {},
   "outputs": [
    {
     "data": {
      "image/png": "[encoded data removed]",
      "text/plain": [
       "<Figure size 432x288 with 1 Axes>"
      ]
     },
     "metadata": {
      "needs_background": "light"
     },
     "output_type": "display_data"
    },
    {
     "data": {
      "image/png": "[encoded data removed]",
      "text/plain": [
       "<Figure size 432x288 with 1 Axes>"
      ]
     },
     "metadata": {
      "needs_background": "light"
     },
     "output_type": "display_data"
    },
    {
     "data": {
      "text/plain": [
       "<Figure size 432x288 with 0 Axes>"
      ]
     },
     "metadata": {},
     "output_type": "display_data"
    }
   ],
   "source": [
    "plt.plot(r.history['loss'], label = 'train_loss')\n",
    "plt.plot(r.history['val_loss'], label = 'val loss')\n",
    "plt.legend()\n",
    "plt.show()\n",
    "plt.savefig('LossVal_loss')\n",
    "\n",
    "plt.plot(r.history['accuracy'], label = 'train acc')\n",
    "plt.plot(r.history['val_accuracy'], label = 'val acc')\n",
    "plt.legend()\n",
    "plt.show()\n",
    "plt.savefig('AccVal_acc')"
   ]
  },
  {
   "cell_type": "code",
   "execution_count": 26,
   "id": "cda848b6",
   "metadata": {},
   "outputs": [],
   "source": [
    "from tensorflow.keras.models import load_model\n",
    "\n",
    "model.save('Leaves2.mobNet.h5')"
   ]
  },
  {
   "cell_type": "code",
   "execution_count": 27,
   "id": "f6b47d9b",
   "metadata": {},
   "outputs": [],
   "source": [
    "from tensorflow.keras.preprocessing import image"
   ]
  },
  {
   "cell_type": "code",
   "execution_count": 28,
   "id": "d1e16fd8",
   "metadata": {},
   "outputs": [
    {
     "name": "stdout",
     "output_type": "stream",
     "text": [
      "Found 181 images belonging to 26 classes.\n"
     ]
    }
   ],
   "source": [
    "t_set = test_dataGen.flow_from_directory('output\\\\test',\n",
    "                                                  target_size = (224,224),\n",
    "                                                  batch_size = 32,\n",
    "                                                  class_mode = 'categorical'\n",
    "                                                )\n"
   ]
  },
  {
   "cell_type": "code",
   "execution_count": 29,
   "id": "fc1c37c2",
   "metadata": {},
   "outputs": [],
   "source": [
    "y_pred = model.predict(t_set)"
   ]
  },
  {
   "cell_type": "code",
   "execution_count": 30,
   "id": "7e377b2d",
   "metadata": {},
   "outputs": [
    {
     "data": {
      "text/plain": [
       "array([[0., 1., 0., ..., 0., 0., 0.],\n",
       "       [0., 0., 0., ..., 0., 0., 0.],\n",
       "       [0., 0., 0., ..., 0., 0., 0.],\n",
       "       ...,\n",
       "       [0., 0., 0., ..., 0., 0., 0.],\n",
       "       [0., 0., 0., ..., 0., 0., 0.],\n",
       "       [0., 0., 0., ..., 0., 0., 0.]], dtype=float32)"
      ]
     },
     "execution_count": 30,
     "metadata": {},
     "output_type": "execute_result"
    }
   ],
   "source": [
    "y_pred"
   ]
  },
  {
   "cell_type": "code",
   "execution_count": 31,
   "id": "b2a63a1f",
   "metadata": {},
   "outputs": [],
   "source": [
    "import numpy as np\n",
    "y_pred = np.argmax(y_pred, axis = 1)"
   ]
  },
  {
   "cell_type": "code",
   "execution_count": 32,
   "id": "bb4ad1bd",
   "metadata": {},
   "outputs": [
    {
     "data": {
      "text/plain": [
       "array([ 1, 13,  4, 15,  2,  7,  2,  6, 16, 18,  6, 13, 10,  1,  6, 25, 14,\n",
       "        4,  8, 22, 14,  6, 22,  7, 20,  1,  6, 16,  8,  1, 11,  0,  4,  5,\n",
       "       12,  7, 24, 21, 11,  9,  0,  1,  7, 16,  2, 16, 19, 11, 10, 24, 23,\n",
       "        2, 14, 23, 19, 12,  1,  7,  3, 24, 10, 11, 16, 23, 12,  9,  6, 18,\n",
       "       21,  8, 24, 21, 14, 16, 14, 18,  4, 23, 22,  7,  9, 11, 11, 10, 20,\n",
       "       24,  3,  2, 21, 25, 22, 11, 12, 13, 23,  4, 19, 13, 20,  9,  1,  1,\n",
       "       15, 14, 13,  5, 13, 24, 11,  6, 17, 24, 17, 22, 25,  6, 19, 11, 14,\n",
       "       13,  0, 21,  4, 12, 16, 15,  2, 15, 20,  5, 12, 13,  9, 17, 13, 24,\n",
       "       20,  8, 17, 12,  5,  1, 15,  9, 21, 19,  2,  3,  1, 13, 17, 17,  7,\n",
       "       13, 24, 18,  4,  4,  1,  4, 22, 22, 23, 15,  0,  4, 17,  1,  1, 19,\n",
       "       20, 14,  4, 17, 15, 23, 10, 14,  9, 16,  3], dtype=int64)"
      ]
     },
     "execution_count": 32,
     "metadata": {},
     "output_type": "execute_result"
    }
   ],
   "source": [
    "y_pred"
   ]
  },
  {
   "cell_type": "code",
   "execution_count": 34,
   "id": "74056336",
   "metadata": {},
   "outputs": [],
   "source": [
    "from keras.models import load_model\n",
    "model = load_model('Leaves2.mobNet.h5')"
   ]
  },
  {
   "cell_type": "code",
   "execution_count": 35,
   "id": "786ef69b",
   "metadata": {},
   "outputs": [],
   "source": [
    "files = glob('output\\\\train\\\\*')"
   ]
  },
  {
   "cell_type": "code",
   "execution_count": 36,
   "id": "5efb2b6b",
   "metadata": {},
   "outputs": [
    {
     "data": {
      "text/plain": [
       "['Alpinia Galanga (Rasna)',\n",
       " 'Amaranthus Viridis (Arive-Dantu)',\n",
       " 'Artocarpus Heterophyllus (Jackfruit)',\n",
       " 'Azadirachta Indica (Neem)',\n",
       " 'Basella Alba (Basale)',\n",
       " 'Brassica Juncea (Indian Mustard)',\n",
       " 'Carissa Carandas (Karanda)',\n",
       " 'Citrus Limon (Lemon)',\n",
       " 'Ficus Auriculata (Roxburgh fig)',\n",
       " 'Ficus Religiosa (Peepal Tree)',\n",
       " 'Hibiscus Rosa-sinensis',\n",
       " 'Jasminum (Jasmine)',\n",
       " 'Mangifera Indica (Mango)',\n",
       " 'Mentha (Mint)',\n",
       " 'Moringa Oleifera (Drumstick)',\n",
       " 'Muntingia Calabura (Jamaica Cherry-Gasagase)',\n",
       " 'Murraya Koenigii (Curry)',\n",
       " 'Nerium Oleander (Oleander)',\n",
       " 'Nyctanthes Arbor-tristis (Parijata)',\n",
       " 'Ocimum Tenuiflorum (Tulsi)',\n",
       " 'Piper Betle (Betel)',\n",
       " 'Plectranthus Amboinicus (Mexican Mint)',\n",
       " 'Pongamia Pinnata (Indian Beech)',\n",
       " 'Psidium Guajava (Guava)',\n",
       " 'Punica Granatum (Pomegranate)',\n",
       " 'Santalum Album (Sandalwood)']"
      ]
     },
     "execution_count": 36,
     "metadata": {},
     "output_type": "execute_result"
    }
   ],
   "source": [
    "files = list(map(lambda x: x.replace('output\\\\train\\\\',''),files))\n",
    "files"
   ]
  },
  {
   "cell_type": "code",
   "execution_count": 37,
   "id": "00f2b4a4",
   "metadata": {},
   "outputs": [
    {
     "data": {
      "text/plain": [
       "{0: 'Alpinia Galanga (Rasna)',\n",
       " 1: 'Amaranthus Viridis (Arive-Dantu)',\n",
       " 2: 'Artocarpus Heterophyllus (Jackfruit)',\n",
       " 3: 'Azadirachta Indica (Neem)',\n",
       " 4: 'Basella Alba (Basale)',\n",
       " 5: 'Brassica Juncea (Indian Mustard)',\n",
       " 6: 'Carissa Carandas (Karanda)',\n",
       " 7: 'Citrus Limon (Lemon)',\n",
       " 8: 'Ficus Auriculata (Roxburgh fig)',\n",
       " 9: 'Ficus Religiosa (Peepal Tree)',\n",
       " 10: 'Hibiscus Rosa-sinensis',\n",
       " 11: 'Jasminum (Jasmine)',\n",
       " 12: 'Mangifera Indica (Mango)',\n",
       " 13: 'Mentha (Mint)',\n",
       " 14: 'Moringa Oleifera (Drumstick)',\n",
       " 15: 'Muntingia Calabura (Jamaica Cherry-Gasagase)',\n",
       " 16: 'Murraya Koenigii (Curry)',\n",
       " 17: 'Nerium Oleander (Oleander)',\n",
       " 18: 'Nyctanthes Arbor-tristis (Parijata)',\n",
       " 19: 'Ocimum Tenuiflorum (Tulsi)',\n",
       " 20: 'Piper Betle (Betel)',\n",
       " 21: 'Plectranthus Amboinicus (Mexican Mint)',\n",
       " 22: 'Pongamia Pinnata (Indian Beech)',\n",
       " 23: 'Psidium Guajava (Guava)',\n",
       " 24: 'Punica Granatum (Pomegranate)',\n",
       " 25: 'Santalum Album (Sandalwood)'}"
      ]
     },
     "execution_count": 37,
     "metadata": {},
     "output_type": "execute_result"
    }
   ],
   "source": [
    "name_id_map = { i : files[i] for i in range(0, len(files) ) }\n",
    "name_id_map"
   ]
  },
  {
   "cell_type": "code",
   "execution_count": 38,
   "id": "c78a643b",
   "metadata": {},
   "outputs": [
    {
     "data": {
      "text/plain": [
       "array([ 1, 13,  4, 15,  2,  7,  2,  6, 16, 18,  6, 13, 10,  1,  6, 25, 14,\n",
       "        4,  8, 22, 14,  6, 22,  7, 20,  1,  6, 16,  8,  1, 11,  0,  4,  5,\n",
       "       12,  7, 24, 21, 11,  9,  0,  1,  7, 16,  2, 16, 19, 11, 10, 24, 23,\n",
       "        2, 14, 23, 19, 12,  1,  7,  3, 24, 10, 11, 16, 23, 12,  9,  6, 18,\n",
       "       21,  8, 24, 21, 14, 16, 14, 18,  4, 23, 22,  7,  9, 11, 11, 10, 20,\n",
       "       24,  3,  2, 21, 25, 22, 11, 12, 13, 23,  4, 19, 13, 20,  9,  1,  1,\n",
       "       15, 14, 13,  5, 13, 24, 11,  6, 17, 24, 17, 22, 25,  6, 19, 11, 14,\n",
       "       13,  0, 21,  4, 12, 16, 15,  2, 15, 20,  5, 12, 13,  9, 17, 13, 24,\n",
       "       20,  8, 17, 12,  5,  1, 15,  9, 21, 19,  2,  3,  1, 13, 17, 17,  7,\n",
       "       13, 24, 18,  4,  4,  1,  4, 22, 22, 23, 15,  0,  4, 17,  1,  1, 19,\n",
       "       20, 14,  4, 17, 15, 23, 10, 14,  9, 16,  3], dtype=int64)"
      ]
     },
     "execution_count": 38,
     "metadata": {},
     "output_type": "execute_result"
    }
   ],
   "source": [
    "y_pred"
   ]
  },
  {
   "cell_type": "code",
   "execution_count": 39,
   "id": "35bf23c6",
   "metadata": {},
   "outputs": [],
   "source": [
    "predicted_classes = list(map(name_id_map.get, y_pred))"
   ]
  },
  {
   "cell_type": "code",
   "execution_count": 40,
   "id": "352c8f54",
   "metadata": {},
   "outputs": [
    {
     "data": {
      "text/plain": [
       "['Amaranthus Viridis (Arive-Dantu)',\n",
       " 'Mentha (Mint)',\n",
       " 'Basella Alba (Basale)',\n",
       " 'Muntingia Calabura (Jamaica Cherry-Gasagase)',\n",
       " 'Artocarpus Heterophyllus (Jackfruit)',\n",
       " 'Citrus Limon (Lemon)',\n",
       " 'Artocarpus Heterophyllus (Jackfruit)',\n",
       " 'Carissa Carandas (Karanda)',\n",
       " 'Murraya Koenigii (Curry)',\n",
       " 'Nyctanthes Arbor-tristis (Parijata)',\n",
       " 'Carissa Carandas (Karanda)',\n",
       " 'Mentha (Mint)',\n",
       " 'Hibiscus Rosa-sinensis',\n",
       " 'Amaranthus Viridis (Arive-Dantu)',\n",
       " 'Carissa Carandas (Karanda)',\n",
       " 'Santalum Album (Sandalwood)',\n",
       " 'Moringa Oleifera (Drumstick)',\n",
       " 'Basella Alba (Basale)',\n",
       " 'Ficus Auriculata (Roxburgh fig)',\n",
       " 'Pongamia Pinnata (Indian Beech)',\n",
       " 'Moringa Oleifera (Drumstick)',\n",
       " 'Carissa Carandas (Karanda)',\n",
       " 'Pongamia Pinnata (Indian Beech)',\n",
       " 'Citrus Limon (Lemon)',\n",
       " 'Piper Betle (Betel)',\n",
       " 'Amaranthus Viridis (Arive-Dantu)',\n",
       " 'Carissa Carandas (Karanda)',\n",
       " 'Murraya Koenigii (Curry)',\n",
       " 'Ficus Auriculata (Roxburgh fig)',\n",
       " 'Amaranthus Viridis (Arive-Dantu)',\n",
       " 'Jasminum (Jasmine)',\n",
       " 'Alpinia Galanga (Rasna)',\n",
       " 'Basella Alba (Basale)',\n",
       " 'Brassica Juncea (Indian Mustard)',\n",
       " 'Mangifera Indica (Mango)',\n",
       " 'Citrus Limon (Lemon)',\n",
       " 'Punica Granatum (Pomegranate)',\n",
       " 'Plectranthus Amboinicus (Mexican Mint)',\n",
       " 'Jasminum (Jasmine)',\n",
       " 'Ficus Religiosa (Peepal Tree)',\n",
       " 'Alpinia Galanga (Rasna)',\n",
       " 'Amaranthus Viridis (Arive-Dantu)',\n",
       " 'Citrus Limon (Lemon)',\n",
       " 'Murraya Koenigii (Curry)',\n",
       " 'Artocarpus Heterophyllus (Jackfruit)',\n",
       " 'Murraya Koenigii (Curry)',\n",
       " 'Ocimum Tenuiflorum (Tulsi)',\n",
       " 'Jasminum (Jasmine)',\n",
       " 'Hibiscus Rosa-sinensis',\n",
       " 'Punica Granatum (Pomegranate)',\n",
       " 'Psidium Guajava (Guava)',\n",
       " 'Artocarpus Heterophyllus (Jackfruit)',\n",
       " 'Moringa Oleifera (Drumstick)',\n",
       " 'Psidium Guajava (Guava)',\n",
       " 'Ocimum Tenuiflorum (Tulsi)',\n",
       " 'Mangifera Indica (Mango)',\n",
       " 'Amaranthus Viridis (Arive-Dantu)',\n",
       " 'Citrus Limon (Lemon)',\n",
       " 'Azadirachta Indica (Neem)',\n",
       " 'Punica Granatum (Pomegranate)',\n",
       " 'Hibiscus Rosa-sinensis',\n",
       " 'Jasminum (Jasmine)',\n",
       " 'Murraya Koenigii (Curry)',\n",
       " 'Psidium Guajava (Guava)',\n",
       " 'Mangifera Indica (Mango)',\n",
       " 'Ficus Religiosa (Peepal Tree)',\n",
       " 'Carissa Carandas (Karanda)',\n",
       " 'Nyctanthes Arbor-tristis (Parijata)',\n",
       " 'Plectranthus Amboinicus (Mexican Mint)',\n",
       " 'Ficus Auriculata (Roxburgh fig)',\n",
       " 'Punica Granatum (Pomegranate)',\n",
       " 'Plectranthus Amboinicus (Mexican Mint)',\n",
       " 'Moringa Oleifera (Drumstick)',\n",
       " 'Murraya Koenigii (Curry)',\n",
       " 'Moringa Oleifera (Drumstick)',\n",
       " 'Nyctanthes Arbor-tristis (Parijata)',\n",
       " 'Basella Alba (Basale)',\n",
       " 'Psidium Guajava (Guava)',\n",
       " 'Pongamia Pinnata (Indian Beech)',\n",
       " 'Citrus Limon (Lemon)',\n",
       " 'Ficus Religiosa (Peepal Tree)',\n",
       " 'Jasminum (Jasmine)',\n",
       " 'Jasminum (Jasmine)',\n",
       " 'Hibiscus Rosa-sinensis',\n",
       " 'Piper Betle (Betel)',\n",
       " 'Punica Granatum (Pomegranate)',\n",
       " 'Azadirachta Indica (Neem)',\n",
       " 'Artocarpus Heterophyllus (Jackfruit)',\n",
       " 'Plectranthus Amboinicus (Mexican Mint)',\n",
       " 'Santalum Album (Sandalwood)',\n",
       " 'Pongamia Pinnata (Indian Beech)',\n",
       " 'Jasminum (Jasmine)',\n",
       " 'Mangifera Indica (Mango)',\n",
       " 'Mentha (Mint)',\n",
       " 'Psidium Guajava (Guava)',\n",
       " 'Basella Alba (Basale)',\n",
       " 'Ocimum Tenuiflorum (Tulsi)',\n",
       " 'Mentha (Mint)',\n",
       " 'Piper Betle (Betel)',\n",
       " 'Ficus Religiosa (Peepal Tree)',\n",
       " 'Amaranthus Viridis (Arive-Dantu)',\n",
       " 'Amaranthus Viridis (Arive-Dantu)',\n",
       " 'Muntingia Calabura (Jamaica Cherry-Gasagase)',\n",
       " 'Moringa Oleifera (Drumstick)',\n",
       " 'Mentha (Mint)',\n",
       " 'Brassica Juncea (Indian Mustard)',\n",
       " 'Mentha (Mint)',\n",
       " 'Punica Granatum (Pomegranate)',\n",
       " 'Jasminum (Jasmine)',\n",
       " 'Carissa Carandas (Karanda)',\n",
       " 'Nerium Oleander (Oleander)',\n",
       " 'Punica Granatum (Pomegranate)',\n",
       " 'Nerium Oleander (Oleander)',\n",
       " 'Pongamia Pinnata (Indian Beech)',\n",
       " 'Santalum Album (Sandalwood)',\n",
       " 'Carissa Carandas (Karanda)',\n",
       " 'Ocimum Tenuiflorum (Tulsi)',\n",
       " 'Jasminum (Jasmine)',\n",
       " 'Moringa Oleifera (Drumstick)',\n",
       " 'Mentha (Mint)',\n",
       " 'Alpinia Galanga (Rasna)',\n",
       " 'Plectranthus Amboinicus (Mexican Mint)',\n",
       " 'Basella Alba (Basale)',\n",
       " 'Mangifera Indica (Mango)',\n",
       " 'Murraya Koenigii (Curry)',\n",
       " 'Muntingia Calabura (Jamaica Cherry-Gasagase)',\n",
       " 'Artocarpus Heterophyllus (Jackfruit)',\n",
       " 'Muntingia Calabura (Jamaica Cherry-Gasagase)',\n",
       " 'Piper Betle (Betel)',\n",
       " 'Brassica Juncea (Indian Mustard)',\n",
       " 'Mangifera Indica (Mango)',\n",
       " 'Mentha (Mint)',\n",
       " 'Ficus Religiosa (Peepal Tree)',\n",
       " 'Nerium Oleander (Oleander)',\n",
       " 'Mentha (Mint)',\n",
       " 'Punica Granatum (Pomegranate)',\n",
       " 'Piper Betle (Betel)',\n",
       " 'Ficus Auriculata (Roxburgh fig)',\n",
       " 'Nerium Oleander (Oleander)',\n",
       " 'Mangifera Indica (Mango)',\n",
       " 'Brassica Juncea (Indian Mustard)',\n",
       " 'Amaranthus Viridis (Arive-Dantu)',\n",
       " 'Muntingia Calabura (Jamaica Cherry-Gasagase)',\n",
       " 'Ficus Religiosa (Peepal Tree)',\n",
       " 'Plectranthus Amboinicus (Mexican Mint)',\n",
       " 'Ocimum Tenuiflorum (Tulsi)',\n",
       " 'Artocarpus Heterophyllus (Jackfruit)',\n",
       " 'Azadirachta Indica (Neem)',\n",
       " 'Amaranthus Viridis (Arive-Dantu)',\n",
       " 'Mentha (Mint)',\n",
       " 'Nerium Oleander (Oleander)',\n",
       " 'Nerium Oleander (Oleander)',\n",
       " 'Citrus Limon (Lemon)',\n",
       " 'Mentha (Mint)',\n",
       " 'Punica Granatum (Pomegranate)',\n",
       " 'Nyctanthes Arbor-tristis (Parijata)',\n",
       " 'Basella Alba (Basale)',\n",
       " 'Basella Alba (Basale)',\n",
       " 'Amaranthus Viridis (Arive-Dantu)',\n",
       " 'Basella Alba (Basale)',\n",
       " 'Pongamia Pinnata (Indian Beech)',\n",
       " 'Pongamia Pinnata (Indian Beech)',\n",
       " 'Psidium Guajava (Guava)',\n",
       " 'Muntingia Calabura (Jamaica Cherry-Gasagase)',\n",
       " 'Alpinia Galanga (Rasna)',\n",
       " 'Basella Alba (Basale)',\n",
       " 'Nerium Oleander (Oleander)',\n",
       " 'Amaranthus Viridis (Arive-Dantu)',\n",
       " 'Amaranthus Viridis (Arive-Dantu)',\n",
       " 'Ocimum Tenuiflorum (Tulsi)',\n",
       " 'Piper Betle (Betel)',\n",
       " 'Moringa Oleifera (Drumstick)',\n",
       " 'Basella Alba (Basale)',\n",
       " 'Nerium Oleander (Oleander)',\n",
       " 'Muntingia Calabura (Jamaica Cherry-Gasagase)',\n",
       " 'Psidium Guajava (Guava)',\n",
       " 'Hibiscus Rosa-sinensis',\n",
       " 'Moringa Oleifera (Drumstick)',\n",
       " 'Ficus Religiosa (Peepal Tree)',\n",
       " 'Murraya Koenigii (Curry)',\n",
       " 'Azadirachta Indica (Neem)']"
      ]
     },
     "execution_count": 40,
     "metadata": {},
     "output_type": "execute_result"
    }
   ],
   "source": [
    "predicted_classes"
   ]
  },
  {
   "cell_type": "code",
   "execution_count": 41,
   "id": "f62c6929",
   "metadata": {},
   "outputs": [
    {
     "name": "stdout",
     "output_type": "stream",
     "text": [
      "6/6 - 5s - loss: 1.6469 - accuracy: 0.9779 - 5s/epoch - 826ms/step\n"
     ]
    }
   ],
   "source": [
    "loss, accuracy = model.evaluate(t_set, verbose=2)\n"
   ]
  },
  {
   "cell_type": "code",
   "execution_count": 42,
   "id": "0d8f0dfd",
   "metadata": {},
   "outputs": [
    {
     "name": "stdout",
     "output_type": "stream",
     "text": [
      "accuracy on test data is : 98 %\n"
     ]
    }
   ],
   "source": [
    "print(f\"accuracy on test data is : {round(accuracy*100)} %\")"
   ]
  }
 ],
 "metadata": {
  "kernelspec": {
   "display_name": "Python 3",
   "language": "python",
   "name": "python3"
  },
  "language_info": {
   "codemirror_mode": {
    "name": "ipython",
    "version": 3
   },
   "file_extension": ".py",
   "mimetype": "text/x-python",
   "name": "python",
   "nbconvert_exporter": "python",
   "pygments_lexer": "ipython3",
   "version": "3.8.10"
  }
 },
 "nbformat": 4,
 "nbformat_minor": 5
}
