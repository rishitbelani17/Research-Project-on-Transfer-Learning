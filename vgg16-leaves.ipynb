{
 "cells": [
  {
   "cell_type": "code",
   "execution_count": 1,
   "id": "984cef4a",
   "metadata": {},
   "outputs": [],
   "source": [
    "from tensorflow.keras.layers import Input, Lambda, Dense, Flatten \n",
    "from tensorflow.keras.models import Model\n",
    "from keras.applications.vgg16 import VGG16\n",
    "from tensorflow.keras.preprocessing import image\n",
    "from tensorflow.keras.applications.vgg16 import preprocess_input\n",
    "from tensorflow.keras.preprocessing.image import ImageDataGenerator, load_img\n",
    "from tensorflow.keras.models import Sequential\n",
    "import numpy as np\n",
    "from glob import glob\n",
    "import matplotlib.pyplot as plt"
   ]
  },
  {
   "cell_type": "code",
   "execution_count": 2,
   "id": "07c1cd40",
   "metadata": {},
   "outputs": [],
   "source": [
    "import splitfolders\n",
    "import os\n",
    "\n",
    "#os.makedirs('output')\n",
    "#os.makedirs('output/train')\n",
    "#os.makedirs('output/val')\n",
    "#os.makedirs('output/test_set')"
   ]
  },
  {
   "cell_type": "code",
   "execution_count": 3,
   "id": "8923277b",
   "metadata": {},
   "outputs": [
    {
     "name": "stderr",
     "output_type": "stream",
     "text": [
      "Copying files: 1615 files [00:19, 81.66 files/s] \n"
     ]
    }
   ],
   "source": [
    "image_loc = 'D:\\Medicinal Leaf Dataset'\n",
    "\n",
    "splitfolders.ratio(image_loc, output='output', seed=1337, ratio=(0.8,0.1,0.1))"
   ]
  },
  {
   "cell_type": "code",
   "execution_count": 4,
   "id": "85af6b66",
   "metadata": {},
   "outputs": [],
   "source": [
    "IMAGE_SIZE = [224,224]\n",
    "\n",
    "train_path = 'output\\\\train'\n",
    "validation_path = 'output\\\\test'"
   ]
  },
  {
   "cell_type": "code",
   "execution_count": 5,
   "id": "4bfa3ee4",
   "metadata": {},
   "outputs": [
    {
     "name": "stdout",
     "output_type": "stream",
     "text": [
      "Downloading data from https://storage.googleapis.com/tensorflow/keras-applications/vgg16/vgg16_weights_tf_dim_ordering_tf_kernels_notop.h5\n",
      "58892288/58889256 [==============================] - 4s 0us/step\n",
      "58900480/58889256 [==============================] - 4s 0us/step\n"
     ]
    }
   ],
   "source": [
    "vgg16 = VGG16(input_shape = IMAGE_SIZE + [3], weights = 'imagenet', include_top = False)"
   ]
  },
  {
   "cell_type": "code",
   "execution_count": 6,
   "id": "ffd70602",
   "metadata": {},
   "outputs": [
    {
     "name": "stdout",
     "output_type": "stream",
     "text": [
      "Model: \"vgg16\"\n",
      "_________________________________________________________________\n",
      " Layer (type)                Output Shape              Param #   \n",
      "=================================================================\n",
      " input_1 (InputLayer)        [(None, 224, 224, 3)]     0         \n",
      "                                                                 \n",
      " block1_conv1 (Conv2D)       (None, 224, 224, 64)      1792      \n",
      "                                                                 \n",
      " block1_conv2 (Conv2D)       (None, 224, 224, 64)      36928     \n",
      "                                                                 \n",
      " block1_pool (MaxPooling2D)  (None, 112, 112, 64)      0         \n",
      "                                                                 \n",
      " block2_conv1 (Conv2D)       (None, 112, 112, 128)     73856     \n",
      "                                                                 \n",
      " block2_conv2 (Conv2D)       (None, 112, 112, 128)     147584    \n",
      "                                                                 \n",
      " block2_pool (MaxPooling2D)  (None, 56, 56, 128)       0         \n",
      "                                                                 \n",
      " block3_conv1 (Conv2D)       (None, 56, 56, 256)       295168    \n",
      "                                                                 \n",
      " block3_conv2 (Conv2D)       (None, 56, 56, 256)       590080    \n",
      "                                                                 \n",
      " block3_conv3 (Conv2D)       (None, 56, 56, 256)       590080    \n",
      "                                                                 \n",
      " block3_pool (MaxPooling2D)  (None, 28, 28, 256)       0         \n",
      "                                                                 \n",
      " block4_conv1 (Conv2D)       (None, 28, 28, 512)       1180160   \n",
      "                                                                 \n",
      " block4_conv2 (Conv2D)       (None, 28, 28, 512)       2359808   \n",
      "                                                                 \n",
      " block4_conv3 (Conv2D)       (None, 28, 28, 512)       2359808   \n",
      "                                                                 \n",
      " block4_pool (MaxPooling2D)  (None, 14, 14, 512)       0         \n",
      "                                                                 \n",
      " block5_conv1 (Conv2D)       (None, 14, 14, 512)       2359808   \n",
      "                                                                 \n",
      " block5_conv2 (Conv2D)       (None, 14, 14, 512)       2359808   \n",
      "                                                                 \n",
      " block5_conv3 (Conv2D)       (None, 14, 14, 512)       2359808   \n",
      "                                                                 \n",
      " block5_pool (MaxPooling2D)  (None, 7, 7, 512)         0         \n",
      "                                                                 \n",
      "=================================================================\n",
      "Total params: 14,714,688\n",
      "Trainable params: 14,714,688\n",
      "Non-trainable params: 0\n",
      "_________________________________________________________________\n"
     ]
    }
   ],
   "source": [
    "vgg16.summary()"
   ]
  },
  {
   "cell_type": "code",
   "execution_count": 8,
   "id": "c7e8d4fd",
   "metadata": {},
   "outputs": [],
   "source": [
    "for layer in vgg16.layers:\n",
    "    layer.trainable = False "
   ]
  },
  {
   "cell_type": "code",
   "execution_count": 26,
   "id": "8868c4b3",
   "metadata": {},
   "outputs": [],
   "source": [
    "folders = glob('D:\\Medicinal Leaf Dataset\\*')"
   ]
  },
  {
   "cell_type": "code",
   "execution_count": null,
   "id": "6cdd7825",
   "metadata": {},
   "outputs": [],
   "source": []
  },
  {
   "cell_type": "code",
   "execution_count": 28,
   "id": "df3df34f",
   "metadata": {},
   "outputs": [
    {
     "data": {
      "text/plain": [
       "['D:\\\\Medicinal Leaf Dataset\\\\Alpinia Galanga (Rasna)',\n",
       " 'D:\\\\Medicinal Leaf Dataset\\\\Amaranthus Viridis (Arive-Dantu)',\n",
       " 'D:\\\\Medicinal Leaf Dataset\\\\Artocarpus Heterophyllus (Jackfruit)',\n",
       " 'D:\\\\Medicinal Leaf Dataset\\\\Azadirachta Indica (Neem)',\n",
       " 'D:\\\\Medicinal Leaf Dataset\\\\Basella Alba (Basale)',\n",
       " 'D:\\\\Medicinal Leaf Dataset\\\\Brassica Juncea (Indian Mustard)',\n",
       " 'D:\\\\Medicinal Leaf Dataset\\\\Carissa Carandas (Karanda)',\n",
       " 'D:\\\\Medicinal Leaf Dataset\\\\Citrus Limon (Lemon)',\n",
       " 'D:\\\\Medicinal Leaf Dataset\\\\Ficus Auriculata (Roxburgh fig)',\n",
       " 'D:\\\\Medicinal Leaf Dataset\\\\Ficus Religiosa (Peepal Tree)',\n",
       " 'D:\\\\Medicinal Leaf Dataset\\\\Hibiscus Rosa-sinensis',\n",
       " 'D:\\\\Medicinal Leaf Dataset\\\\Jasminum (Jasmine)',\n",
       " 'D:\\\\Medicinal Leaf Dataset\\\\Mangifera Indica (Mango)',\n",
       " 'D:\\\\Medicinal Leaf Dataset\\\\Mentha (Mint)',\n",
       " 'D:\\\\Medicinal Leaf Dataset\\\\Moringa Oleifera (Drumstick)',\n",
       " 'D:\\\\Medicinal Leaf Dataset\\\\Muntingia Calabura (Jamaica Cherry-Gasagase)',\n",
       " 'D:\\\\Medicinal Leaf Dataset\\\\Murraya Koenigii (Curry)',\n",
       " 'D:\\\\Medicinal Leaf Dataset\\\\Nerium Oleander (Oleander)',\n",
       " 'D:\\\\Medicinal Leaf Dataset\\\\Nyctanthes Arbor-tristis (Parijata)',\n",
       " 'D:\\\\Medicinal Leaf Dataset\\\\Ocimum Tenuiflorum (Tulsi)',\n",
       " 'D:\\\\Medicinal Leaf Dataset\\\\Piper Betle (Betel)',\n",
       " 'D:\\\\Medicinal Leaf Dataset\\\\Plectranthus Amboinicus (Mexican Mint)',\n",
       " 'D:\\\\Medicinal Leaf Dataset\\\\Pongamia Pinnata (Indian Beech)',\n",
       " 'D:\\\\Medicinal Leaf Dataset\\\\Psidium Guajava (Guava)',\n",
       " 'D:\\\\Medicinal Leaf Dataset\\\\Punica Granatum (Pomegranate)',\n",
       " 'D:\\\\Medicinal Leaf Dataset\\\\Santalum Album (Sandalwood)']"
      ]
     },
     "execution_count": 28,
     "metadata": {},
     "output_type": "execute_result"
    }
   ],
   "source": [
    "folders"
   ]
  },
  {
   "cell_type": "code",
   "execution_count": 29,
   "id": "bb9f274f",
   "metadata": {},
   "outputs": [],
   "source": [
    "x = Flatten()(vgg16.output)"
   ]
  },
  {
   "cell_type": "code",
   "execution_count": 30,
   "id": "96f96dd1",
   "metadata": {},
   "outputs": [],
   "source": [
    "prediction = Dense(len(folders), activation = 'softmax')(x)\n",
    "\n",
    "model = Model(inputs = vgg16.input, outputs = prediction)"
   ]
  },
  {
   "cell_type": "code",
   "execution_count": 31,
   "id": "ff0903b5",
   "metadata": {},
   "outputs": [
    {
     "name": "stdout",
     "output_type": "stream",
     "text": [
      "Model: \"model_1\"\n",
      "_________________________________________________________________\n",
      " Layer (type)                Output Shape              Param #   \n",
      "=================================================================\n",
      " input_1 (InputLayer)        [(None, 224, 224, 3)]     0         \n",
      "                                                                 \n",
      " block1_conv1 (Conv2D)       (None, 224, 224, 64)      1792      \n",
      "                                                                 \n",
      " block1_conv2 (Conv2D)       (None, 224, 224, 64)      36928     \n",
      "                                                                 \n",
      " block1_pool (MaxPooling2D)  (None, 112, 112, 64)      0         \n",
      "                                                                 \n",
      " block2_conv1 (Conv2D)       (None, 112, 112, 128)     73856     \n",
      "                                                                 \n",
      " block2_conv2 (Conv2D)       (None, 112, 112, 128)     147584    \n",
      "                                                                 \n",
      " block2_pool (MaxPooling2D)  (None, 56, 56, 128)       0         \n",
      "                                                                 \n",
      " block3_conv1 (Conv2D)       (None, 56, 56, 256)       295168    \n",
      "                                                                 \n",
      " block3_conv2 (Conv2D)       (None, 56, 56, 256)       590080    \n",
      "                                                                 \n",
      " block3_conv3 (Conv2D)       (None, 56, 56, 256)       590080    \n",
      "                                                                 \n",
      " block3_pool (MaxPooling2D)  (None, 28, 28, 256)       0         \n",
      "                                                                 \n",
      " block4_conv1 (Conv2D)       (None, 28, 28, 512)       1180160   \n",
      "                                                                 \n",
      " block4_conv2 (Conv2D)       (None, 28, 28, 512)       2359808   \n",
      "                                                                 \n",
      " block4_conv3 (Conv2D)       (None, 28, 28, 512)       2359808   \n",
      "                                                                 \n",
      " block4_pool (MaxPooling2D)  (None, 14, 14, 512)       0         \n",
      "                                                                 \n",
      " block5_conv1 (Conv2D)       (None, 14, 14, 512)       2359808   \n",
      "                                                                 \n",
      " block5_conv2 (Conv2D)       (None, 14, 14, 512)       2359808   \n",
      "                                                                 \n",
      " block5_conv3 (Conv2D)       (None, 14, 14, 512)       2359808   \n",
      "                                                                 \n",
      " block5_pool (MaxPooling2D)  (None, 7, 7, 512)         0         \n",
      "                                                                 \n",
      " flatten_2 (Flatten)         (None, 25088)             0         \n",
      "                                                                 \n",
      " dense_1 (Dense)             (None, 26)                652314    \n",
      "                                                                 \n",
      "=================================================================\n",
      "Total params: 15,367,002\n",
      "Trainable params: 652,314\n",
      "Non-trainable params: 14,714,688\n",
      "_________________________________________________________________\n"
     ]
    }
   ],
   "source": [
    "model.summary()"
   ]
  },
  {
   "cell_type": "code",
   "execution_count": 32,
   "id": "608e6246",
   "metadata": {},
   "outputs": [],
   "source": [
    "model.compile(\n",
    "loss = 'categorical_crossentropy',optimizer = 'adam',metrics = ['accuracy'])"
   ]
  },
  {
   "cell_type": "code",
   "execution_count": 33,
   "id": "728d3308",
   "metadata": {},
   "outputs": [],
   "source": [
    "from tensorflow.keras.preprocessing.image import ImageDataGenerator\n",
    "\n",
    "train_dataGen = ImageDataGenerator(rescale=1./255,\n",
    "                                   shear_range = 0.2,\n",
    "                                   zoom_range = 0.2,\n",
    "                                   horizontal_flip = True)\n",
    "\n",
    "test_dataGen  = ImageDataGenerator(rescale = 1./255)"
   ]
  },
  {
   "cell_type": "code",
   "execution_count": 34,
   "id": "e5579540",
   "metadata": {},
   "outputs": [
    {
     "name": "stdout",
     "output_type": "stream",
     "text": [
      "Found 1360 images belonging to 26 classes.\n"
     ]
    }
   ],
   "source": [
    "training_set = train_dataGen.flow_from_directory('output\\\\train',\n",
    "                                                  target_size = (224,224),\n",
    "                                                  batch_size = 32,\n",
    "                                                  class_mode = 'categorical'\n",
    "                                                )"
   ]
  },
  {
   "cell_type": "code",
   "execution_count": 35,
   "id": "209630ea",
   "metadata": {},
   "outputs": [
    {
     "name": "stdout",
     "output_type": "stream",
     "text": [
      "Found 333 images belonging to 26 classes.\n"
     ]
    }
   ],
   "source": [
    "val_set = train_dataGen.flow_from_directory('output\\\\val',\n",
    "                                                  target_size = (224,224),\n",
    "                                                  batch_size = 32,\n",
    "                                                  class_mode = 'categorical'\n",
    "                                                )"
   ]
  },
  {
   "cell_type": "code",
   "execution_count": 36,
   "id": "60843fd6",
   "metadata": {},
   "outputs": [
    {
     "name": "stderr",
     "output_type": "stream",
     "text": [
      "<ipython-input-36-5c48062396c1>:1: UserWarning: `Model.fit_generator` is deprecated and will be removed in a future version. Please use `Model.fit`, which supports generators.\n",
      "  r = model.fit_generator(\n"
     ]
    },
    {
     "name": "stdout",
     "output_type": "stream",
     "text": [
      "Epoch 1/50\n",
      "43/43 [==============================] - 282s 7s/step - loss: 1.5516 - accuracy: 0.6015 - val_loss: 0.5871 - val_accuracy: 0.8318\n",
      "Epoch 2/50\n",
      "43/43 [==============================] - 284s 7s/step - loss: 0.3544 - accuracy: 0.8890 - val_loss: 0.3256 - val_accuracy: 0.9009\n",
      "Epoch 3/50\n",
      "43/43 [==============================] - 291s 7s/step - loss: 0.2521 - accuracy: 0.9243 - val_loss: 0.1742 - val_accuracy: 0.9489\n",
      "Epoch 4/50\n",
      "43/43 [==============================] - 242s 6s/step - loss: 0.1263 - accuracy: 0.9625 - val_loss: 0.1620 - val_accuracy: 0.9610\n",
      "Epoch 5/50\n",
      "43/43 [==============================] - 192s 4s/step - loss: 0.0814 - accuracy: 0.9794 - val_loss: 0.1136 - val_accuracy: 0.9700\n",
      "Epoch 6/50\n",
      "43/43 [==============================] - 191s 4s/step - loss: 0.0658 - accuracy: 0.9838 - val_loss: 0.1580 - val_accuracy: 0.9580\n",
      "Epoch 7/50\n",
      "43/43 [==============================] - 190s 4s/step - loss: 0.0553 - accuracy: 0.9890 - val_loss: 0.1289 - val_accuracy: 0.9640\n",
      "Epoch 8/50\n",
      "43/43 [==============================] - 181s 4s/step - loss: 0.0533 - accuracy: 0.9882 - val_loss: 0.1211 - val_accuracy: 0.9640\n",
      "Epoch 9/50\n",
      "43/43 [==============================] - 182s 4s/step - loss: 0.0438 - accuracy: 0.9890 - val_loss: 0.1156 - val_accuracy: 0.9760\n",
      "Epoch 10/50\n",
      "43/43 [==============================] - 170s 4s/step - loss: 0.0485 - accuracy: 0.9897 - val_loss: 0.1067 - val_accuracy: 0.9670\n",
      "Epoch 11/50\n",
      "43/43 [==============================] - 168s 4s/step - loss: 0.0340 - accuracy: 0.9882 - val_loss: 0.0891 - val_accuracy: 0.9820\n",
      "Epoch 12/50\n",
      "43/43 [==============================] - 172s 4s/step - loss: 0.0249 - accuracy: 0.9963 - val_loss: 0.0758 - val_accuracy: 0.9760\n",
      "Epoch 13/50\n",
      "43/43 [==============================] - 172s 4s/step - loss: 0.0170 - accuracy: 0.9985 - val_loss: 0.0786 - val_accuracy: 0.9760\n",
      "Epoch 14/50\n",
      "43/43 [==============================] - 177s 4s/step - loss: 0.0135 - accuracy: 0.9985 - val_loss: 0.0927 - val_accuracy: 0.9730\n",
      "Epoch 15/50\n",
      "43/43 [==============================] - 374s 9s/step - loss: 0.0155 - accuracy: 0.9978 - val_loss: 0.0724 - val_accuracy: 0.9760\n",
      "Epoch 16/50\n",
      "43/43 [==============================] - 391s 9s/step - loss: 0.0140 - accuracy: 0.9971 - val_loss: 0.0849 - val_accuracy: 0.9730\n",
      "Epoch 17/50\n",
      "43/43 [==============================] - 394s 9s/step - loss: 0.0135 - accuracy: 0.9971 - val_loss: 0.0683 - val_accuracy: 0.9820\n",
      "Epoch 18/50\n",
      "43/43 [==============================] - 396s 9s/step - loss: 0.0091 - accuracy: 0.9985 - val_loss: 0.0894 - val_accuracy: 0.9700\n",
      "Epoch 19/50\n",
      "43/43 [==============================] - 400s 9s/step - loss: 0.0208 - accuracy: 0.9941 - val_loss: 0.1246 - val_accuracy: 0.9670\n",
      "Epoch 20/50\n",
      "43/43 [==============================] - 399s 9s/step - loss: 0.0170 - accuracy: 0.9963 - val_loss: 0.0906 - val_accuracy: 0.9700\n",
      "Epoch 21/50\n",
      "43/43 [==============================] - 380s 9s/step - loss: 0.0540 - accuracy: 0.9824 - val_loss: 0.1934 - val_accuracy: 0.9580\n",
      "Epoch 22/50\n",
      "43/43 [==============================] - 394s 9s/step - loss: 0.0477 - accuracy: 0.9853 - val_loss: 0.0989 - val_accuracy: 0.9730\n",
      "Epoch 23/50\n",
      "43/43 [==============================] - 397s 9s/step - loss: 0.0134 - accuracy: 0.9978 - val_loss: 0.0564 - val_accuracy: 0.9910\n",
      "Epoch 24/50\n",
      "43/43 [==============================] - 396s 9s/step - loss: 0.0093 - accuracy: 0.9985 - val_loss: 0.0747 - val_accuracy: 0.9790\n",
      "Epoch 25/50\n",
      "43/43 [==============================] - 399s 9s/step - loss: 0.0044 - accuracy: 1.0000 - val_loss: 0.0760 - val_accuracy: 0.9760\n",
      "Epoch 26/50\n",
      "43/43 [==============================] - 395s 9s/step - loss: 0.0063 - accuracy: 1.0000 - val_loss: 0.0828 - val_accuracy: 0.9670\n",
      "Epoch 27/50\n",
      "43/43 [==============================] - 392s 9s/step - loss: 0.0055 - accuracy: 1.0000 - val_loss: 0.0807 - val_accuracy: 0.9790\n",
      "Epoch 28/50\n",
      "43/43 [==============================] - 395s 9s/step - loss: 0.0030 - accuracy: 1.0000 - val_loss: 0.0587 - val_accuracy: 0.9850\n",
      "Epoch 29/50\n",
      "43/43 [==============================] - 396s 9s/step - loss: 0.0030 - accuracy: 1.0000 - val_loss: 0.0513 - val_accuracy: 0.9820\n",
      "Epoch 30/50\n",
      "43/43 [==============================] - 399s 9s/step - loss: 0.0032 - accuracy: 1.0000 - val_loss: 0.0602 - val_accuracy: 0.9880\n",
      "Epoch 31/50\n",
      "43/43 [==============================] - 398s 9s/step - loss: 0.0036 - accuracy: 1.0000 - val_loss: 0.0645 - val_accuracy: 0.9820\n",
      "Epoch 32/50\n",
      "43/43 [==============================] - 422s 10s/step - loss: 0.0026 - accuracy: 1.0000 - val_loss: 0.0872 - val_accuracy: 0.9760\n",
      "Epoch 33/50\n",
      "43/43 [==============================] - 445s 10s/step - loss: 0.0078 - accuracy: 0.9963 - val_loss: 0.0761 - val_accuracy: 0.9730\n",
      "Epoch 34/50\n",
      "43/43 [==============================] - 418s 10s/step - loss: 0.0052 - accuracy: 0.9985 - val_loss: 0.0787 - val_accuracy: 0.9730\n",
      "Epoch 35/50\n",
      "43/43 [==============================] - 393s 9s/step - loss: 0.0369 - accuracy: 0.9919 - val_loss: 0.0694 - val_accuracy: 0.9790\n",
      "Epoch 36/50\n",
      "43/43 [==============================] - 397s 9s/step - loss: 0.0124 - accuracy: 0.9978 - val_loss: 0.0675 - val_accuracy: 0.9850\n",
      "Epoch 37/50\n",
      "43/43 [==============================] - 398s 9s/step - loss: 0.0142 - accuracy: 0.9971 - val_loss: 0.0662 - val_accuracy: 0.9820\n",
      "Epoch 38/50\n",
      "43/43 [==============================] - 397s 9s/step - loss: 0.0113 - accuracy: 0.9941 - val_loss: 0.0704 - val_accuracy: 0.9700\n",
      "Epoch 39/50\n",
      "43/43 [==============================] - 394s 9s/step - loss: 0.0061 - accuracy: 0.9993 - val_loss: 0.0597 - val_accuracy: 0.9850\n",
      "Epoch 40/50\n",
      "43/43 [==============================] - 386s 9s/step - loss: 0.0018 - accuracy: 1.0000 - val_loss: 0.0579 - val_accuracy: 0.9790\n",
      "Epoch 41/50\n",
      "43/43 [==============================] - 397s 9s/step - loss: 0.0021 - accuracy: 1.0000 - val_loss: 0.0756 - val_accuracy: 0.9790\n",
      "Epoch 42/50\n",
      "43/43 [==============================] - 398s 9s/step - loss: 0.0018 - accuracy: 1.0000 - val_loss: 0.0746 - val_accuracy: 0.9760\n",
      "Epoch 43/50\n",
      "43/43 [==============================] - 396s 9s/step - loss: 0.0015 - accuracy: 1.0000 - val_loss: 0.0675 - val_accuracy: 0.9790\n",
      "Epoch 44/50\n",
      "43/43 [==============================] - 395s 9s/step - loss: 0.0016 - accuracy: 1.0000 - val_loss: 0.0922 - val_accuracy: 0.9760\n",
      "Epoch 45/50\n",
      "43/43 [==============================] - 396s 9s/step - loss: 0.0026 - accuracy: 1.0000 - val_loss: 0.0540 - val_accuracy: 0.9850\n",
      "Epoch 46/50\n",
      "43/43 [==============================] - 395s 9s/step - loss: 0.0015 - accuracy: 1.0000 - val_loss: 0.0759 - val_accuracy: 0.9820\n",
      "Epoch 47/50\n",
      "43/43 [==============================] - 379s 9s/step - loss: 0.0012 - accuracy: 1.0000 - val_loss: 0.0587 - val_accuracy: 0.9790\n",
      "Epoch 48/50\n",
      "43/43 [==============================] - 322s 8s/step - loss: 0.0046 - accuracy: 0.9978 - val_loss: 0.0558 - val_accuracy: 0.9820\n",
      "Epoch 49/50\n",
      "43/43 [==============================] - 322s 7s/step - loss: 0.0207 - accuracy: 0.9934 - val_loss: 0.0718 - val_accuracy: 0.9850\n",
      "Epoch 50/50\n",
      "43/43 [==============================] - 322s 7s/step - loss: 0.0826 - accuracy: 0.9787 - val_loss: 0.1379 - val_accuracy: 0.9670\n"
     ]
    }
   ],
   "source": [
    "r = model.fit_generator(\n",
    "training_set,\n",
    "validation_data = val_set,epochs = 50,\n",
    "steps_per_epoch = len(training_set),\n",
    "validation_steps = len(val_set)\n",
    ")"
   ]
  },
  {
   "cell_type": "code",
   "execution_count": 37,
   "id": "18a7d839",
   "metadata": {},
   "outputs": [
    {
     "data": {
      "image/png": "[encoded data removed]",
      "text/plain": [
       "<Figure size 432x288 with 1 Axes>"
      ]
     },
     "metadata": {
      "needs_background": "light"
     },
     "output_type": "display_data"
    },
    {
     "data": {
      "image/png": "[encoded data removed]",
      "text/plain": [
       "<Figure size 432x288 with 1 Axes>"
      ]
     },
     "metadata": {
      "needs_background": "light"
     },
     "output_type": "display_data"
    },
    {
     "data": {
      "text/plain": [
       "<Figure size 432x288 with 0 Axes>"
      ]
     },
     "metadata": {},
     "output_type": "display_data"
    }
   ],
   "source": [
    "plt.plot(r.history['loss'], label = 'train_loss')\n",
    "plt.plot(r.history['val_loss'], label = 'val loss')\n",
    "plt.legend()\n",
    "plt.show()\n",
    "plt.savefig('LossVal_loss')\n",
    "\n",
    "plt.plot(r.history['accuracy'], label = 'train acc')\n",
    "plt.plot(r.history['val_accuracy'], label = 'val acc')\n",
    "plt.legend()\n",
    "plt.show()\n",
    "plt.savefig('AccVal_acc')"
   ]
  },
  {
   "cell_type": "code",
   "execution_count": 38,
   "id": "97cff313",
   "metadata": {},
   "outputs": [],
   "source": [
    "from tensorflow.keras.models import load_model\n",
    "\n",
    "model.save('Leaves2.vgg16.h5')"
   ]
  },
  {
   "cell_type": "code",
   "execution_count": 39,
   "id": "8de7fb00",
   "metadata": {},
   "outputs": [],
   "source": [
    "from tensorflow.keras.preprocessing import image"
   ]
  },
  {
   "cell_type": "code",
   "execution_count": 40,
   "id": "f83356f4",
   "metadata": {},
   "outputs": [
    {
     "name": "stdout",
     "output_type": "stream",
     "text": [
      "Found 181 images belonging to 26 classes.\n"
     ]
    }
   ],
   "source": [
    "t_set = test_dataGen.flow_from_directory('output\\\\test',\n",
    "                                                  target_size = (224,224),\n",
    "                                                  batch_size = 32,\n",
    "                                                  class_mode = 'categorical'\n",
    "                                                )"
   ]
  },
  {
   "cell_type": "code",
   "execution_count": 41,
   "id": "6fb56c93",
   "metadata": {},
   "outputs": [],
   "source": [
    "y_pred = model.predict(t_set)"
   ]
  },
  {
   "cell_type": "code",
   "execution_count": 42,
   "id": "ad5bb644",
   "metadata": {},
   "outputs": [
    {
     "data": {
      "text/plain": [
       "array([[3.5175428e-15, 3.4456219e-11, 6.6271636e-13, ..., 1.5681301e-12,\n",
       "        1.9699357e-08, 1.2261753e-10],\n",
       "       [4.3691680e-19, 1.2310869e-10, 4.4410688e-09, ..., 1.3610410e-08,\n",
       "        9.3024011e-10, 5.4897250e-12],\n",
       "       [6.2343549e-21, 1.8698592e-13, 3.6764682e-11, ..., 1.0000000e+00,\n",
       "        3.6504582e-16, 1.4446925e-16],\n",
       "       ...,\n",
       "       [2.9389595e-17, 9.9995840e-01, 6.3031049e-14, ..., 1.1555428e-14,\n",
       "        1.9617384e-10, 2.5213076e-09],\n",
       "       [8.4643596e-14, 9.9851686e-01, 2.8786609e-11, ..., 6.8496191e-13,\n",
       "        1.3812571e-11, 9.2007317e-09],\n",
       "       [1.3430286e-16, 2.0754900e-09, 2.7130116e-17, ..., 3.5924505e-13,\n",
       "        4.1150270e-13, 7.2960749e-09]], dtype=float32)"
      ]
     },
     "execution_count": 42,
     "metadata": {},
     "output_type": "execute_result"
    }
   ],
   "source": [
    "y_pred"
   ]
  },
  {
   "cell_type": "code",
   "execution_count": 43,
   "id": "15ebecbf",
   "metadata": {},
   "outputs": [],
   "source": [
    "import numpy as np\n",
    "y_pred = np.argmax(y_pred, axis = 1)"
   ]
  },
  {
   "cell_type": "code",
   "execution_count": 44,
   "id": "7c607eb6",
   "metadata": {},
   "outputs": [
    {
     "data": {
      "text/plain": [
       "array([12, 11, 23,  1,  5,  3, 13, 24, 20,  9, 23, 14, 24,  4, 18,  2, 25,\n",
       "       23, 24,  6,  8, 24,  0,  6, 13,  2, 11, 22,  3,  0, 12, 17,  4, 18,\n",
       "       15, 19, 11, 11,  9,  1, 14, 13, 15, 19, 22, 11, 23,  1, 22,  7,  6,\n",
       "        4,  5, 14, 20, 12, 17,  7,  2, 10,  6, 12, 13,  1, 14, 15, 12,  1,\n",
       "       17, 14, 24, 14, 13,  7,  2,  9, 14, 16,  6,  4, 13, 12,  2,  7, 18,\n",
       "        4,  7,  9,  7, 16, 19,  4,  4, 15, 24, 13,  4, 19, 11, 17,  9, 12,\n",
       "        2, 16, 16, 15,  1,  2, 21, 21, 20, 15,  4, 22,  7,  0, 16, 17,  3,\n",
       "       24,  6, 16,  7,  4, 11, 18, 20, 13,  3, 24,  6,  1,  9, 25, 13, 21,\n",
       "       10, 21,  1, 10, 24, 17, 21,  4, 14, 14, 15, 21,  8, 20,  9, 23, 11,\n",
       "       10, 13,  5, 23, 12,  5, 22,  1,  1, 11, 23, 11, 20, 16,  0,  8,  6,\n",
       "        3, 13,  0, 22, 10,  1, 19, 22,  1,  1, 13], dtype=int64)"
      ]
     },
     "execution_count": 44,
     "metadata": {},
     "output_type": "execute_result"
    }
   ],
   "source": [
    "y_pred"
   ]
  },
  {
   "cell_type": "code",
   "execution_count": 45,
   "id": "c2b0c308",
   "metadata": {},
   "outputs": [],
   "source": [
    "from keras.models import load_model\n",
    "model = load_model('Leaves2.vgg16.h5')"
   ]
  },
  {
   "cell_type": "code",
   "execution_count": 46,
   "id": "f3106e42",
   "metadata": {},
   "outputs": [],
   "source": [
    "files = glob('output\\\\train\\\\*')"
   ]
  },
  {
   "cell_type": "code",
   "execution_count": 47,
   "id": "c562a275",
   "metadata": {},
   "outputs": [],
   "source": [
    "files = list(map(lambda x: x.replace('output\\\\train\\\\',''),files))\n"
   ]
  },
  {
   "cell_type": "code",
   "execution_count": 48,
   "id": "44a8a599",
   "metadata": {},
   "outputs": [
    {
     "data": {
      "text/plain": [
       "['Alpinia Galanga (Rasna)',\n",
       " 'Amaranthus Viridis (Arive-Dantu)',\n",
       " 'Artocarpus Heterophyllus (Jackfruit)',\n",
       " 'Azadirachta Indica (Neem)',\n",
       " 'Basella Alba (Basale)',\n",
       " 'Brassica Juncea (Indian Mustard)',\n",
       " 'Carissa Carandas (Karanda)',\n",
       " 'Citrus Limon (Lemon)',\n",
       " 'Ficus Auriculata (Roxburgh fig)',\n",
       " 'Ficus Religiosa (Peepal Tree)',\n",
       " 'Hibiscus Rosa-sinensis',\n",
       " 'Jasminum (Jasmine)',\n",
       " 'Mangifera Indica (Mango)',\n",
       " 'Mentha (Mint)',\n",
       " 'Moringa Oleifera (Drumstick)',\n",
       " 'Muntingia Calabura (Jamaica Cherry-Gasagase)',\n",
       " 'Murraya Koenigii (Curry)',\n",
       " 'Nerium Oleander (Oleander)',\n",
       " 'Nyctanthes Arbor-tristis (Parijata)',\n",
       " 'Ocimum Tenuiflorum (Tulsi)',\n",
       " 'Piper Betle (Betel)',\n",
       " 'Plectranthus Amboinicus (Mexican Mint)',\n",
       " 'Pongamia Pinnata (Indian Beech)',\n",
       " 'Psidium Guajava (Guava)',\n",
       " 'Punica Granatum (Pomegranate)',\n",
       " 'Santalum Album (Sandalwood)']"
      ]
     },
     "execution_count": 48,
     "metadata": {},
     "output_type": "execute_result"
    }
   ],
   "source": [
    "files"
   ]
  },
  {
   "cell_type": "code",
   "execution_count": 49,
   "id": "d7e67356",
   "metadata": {},
   "outputs": [],
   "source": [
    "name_id_map = { i : files[i] for i in range(0, len(files) ) }"
   ]
  },
  {
   "cell_type": "code",
   "execution_count": 50,
   "id": "df4b93a6",
   "metadata": {},
   "outputs": [
    {
     "data": {
      "text/plain": [
       "{0: 'Alpinia Galanga (Rasna)',\n",
       " 1: 'Amaranthus Viridis (Arive-Dantu)',\n",
       " 2: 'Artocarpus Heterophyllus (Jackfruit)',\n",
       " 3: 'Azadirachta Indica (Neem)',\n",
       " 4: 'Basella Alba (Basale)',\n",
       " 5: 'Brassica Juncea (Indian Mustard)',\n",
       " 6: 'Carissa Carandas (Karanda)',\n",
       " 7: 'Citrus Limon (Lemon)',\n",
       " 8: 'Ficus Auriculata (Roxburgh fig)',\n",
       " 9: 'Ficus Religiosa (Peepal Tree)',\n",
       " 10: 'Hibiscus Rosa-sinensis',\n",
       " 11: 'Jasminum (Jasmine)',\n",
       " 12: 'Mangifera Indica (Mango)',\n",
       " 13: 'Mentha (Mint)',\n",
       " 14: 'Moringa Oleifera (Drumstick)',\n",
       " 15: 'Muntingia Calabura (Jamaica Cherry-Gasagase)',\n",
       " 16: 'Murraya Koenigii (Curry)',\n",
       " 17: 'Nerium Oleander (Oleander)',\n",
       " 18: 'Nyctanthes Arbor-tristis (Parijata)',\n",
       " 19: 'Ocimum Tenuiflorum (Tulsi)',\n",
       " 20: 'Piper Betle (Betel)',\n",
       " 21: 'Plectranthus Amboinicus (Mexican Mint)',\n",
       " 22: 'Pongamia Pinnata (Indian Beech)',\n",
       " 23: 'Psidium Guajava (Guava)',\n",
       " 24: 'Punica Granatum (Pomegranate)',\n",
       " 25: 'Santalum Album (Sandalwood)'}"
      ]
     },
     "execution_count": 50,
     "metadata": {},
     "output_type": "execute_result"
    }
   ],
   "source": [
    "name_id_map"
   ]
  },
  {
   "cell_type": "code",
   "execution_count": 51,
   "id": "2bc4a3c6",
   "metadata": {},
   "outputs": [
    {
     "data": {
      "text/plain": [
       "array([12, 11, 23,  1,  5,  3, 13, 24, 20,  9, 23, 14, 24,  4, 18,  2, 25,\n",
       "       23, 24,  6,  8, 24,  0,  6, 13,  2, 11, 22,  3,  0, 12, 17,  4, 18,\n",
       "       15, 19, 11, 11,  9,  1, 14, 13, 15, 19, 22, 11, 23,  1, 22,  7,  6,\n",
       "        4,  5, 14, 20, 12, 17,  7,  2, 10,  6, 12, 13,  1, 14, 15, 12,  1,\n",
       "       17, 14, 24, 14, 13,  7,  2,  9, 14, 16,  6,  4, 13, 12,  2,  7, 18,\n",
       "        4,  7,  9,  7, 16, 19,  4,  4, 15, 24, 13,  4, 19, 11, 17,  9, 12,\n",
       "        2, 16, 16, 15,  1,  2, 21, 21, 20, 15,  4, 22,  7,  0, 16, 17,  3,\n",
       "       24,  6, 16,  7,  4, 11, 18, 20, 13,  3, 24,  6,  1,  9, 25, 13, 21,\n",
       "       10, 21,  1, 10, 24, 17, 21,  4, 14, 14, 15, 21,  8, 20,  9, 23, 11,\n",
       "       10, 13,  5, 23, 12,  5, 22,  1,  1, 11, 23, 11, 20, 16,  0,  8,  6,\n",
       "        3, 13,  0, 22, 10,  1, 19, 22,  1,  1, 13], dtype=int64)"
      ]
     },
     "execution_count": 51,
     "metadata": {},
     "output_type": "execute_result"
    }
   ],
   "source": [
    "y_pred"
   ]
  },
  {
   "cell_type": "code",
   "execution_count": 52,
   "id": "7697bb68",
   "metadata": {},
   "outputs": [],
   "source": [
    "predicted_classes = list(map(name_id_map.get, y_pred))"
   ]
  },
  {
   "cell_type": "code",
   "execution_count": 53,
   "id": "b9b30059",
   "metadata": {},
   "outputs": [
    {
     "data": {
      "text/plain": [
       "['Mangifera Indica (Mango)',\n",
       " 'Jasminum (Jasmine)',\n",
       " 'Psidium Guajava (Guava)',\n",
       " 'Amaranthus Viridis (Arive-Dantu)',\n",
       " 'Brassica Juncea (Indian Mustard)',\n",
       " 'Azadirachta Indica (Neem)',\n",
       " 'Mentha (Mint)',\n",
       " 'Punica Granatum (Pomegranate)',\n",
       " 'Piper Betle (Betel)',\n",
       " 'Ficus Religiosa (Peepal Tree)',\n",
       " 'Psidium Guajava (Guava)',\n",
       " 'Moringa Oleifera (Drumstick)',\n",
       " 'Punica Granatum (Pomegranate)',\n",
       " 'Basella Alba (Basale)',\n",
       " 'Nyctanthes Arbor-tristis (Parijata)',\n",
       " 'Artocarpus Heterophyllus (Jackfruit)',\n",
       " 'Santalum Album (Sandalwood)',\n",
       " 'Psidium Guajava (Guava)',\n",
       " 'Punica Granatum (Pomegranate)',\n",
       " 'Carissa Carandas (Karanda)',\n",
       " 'Ficus Auriculata (Roxburgh fig)',\n",
       " 'Punica Granatum (Pomegranate)',\n",
       " 'Alpinia Galanga (Rasna)',\n",
       " 'Carissa Carandas (Karanda)',\n",
       " 'Mentha (Mint)',\n",
       " 'Artocarpus Heterophyllus (Jackfruit)',\n",
       " 'Jasminum (Jasmine)',\n",
       " 'Pongamia Pinnata (Indian Beech)',\n",
       " 'Azadirachta Indica (Neem)',\n",
       " 'Alpinia Galanga (Rasna)',\n",
       " 'Mangifera Indica (Mango)',\n",
       " 'Nerium Oleander (Oleander)',\n",
       " 'Basella Alba (Basale)',\n",
       " 'Nyctanthes Arbor-tristis (Parijata)',\n",
       " 'Muntingia Calabura (Jamaica Cherry-Gasagase)',\n",
       " 'Ocimum Tenuiflorum (Tulsi)',\n",
       " 'Jasminum (Jasmine)',\n",
       " 'Jasminum (Jasmine)',\n",
       " 'Ficus Religiosa (Peepal Tree)',\n",
       " 'Amaranthus Viridis (Arive-Dantu)',\n",
       " 'Moringa Oleifera (Drumstick)',\n",
       " 'Mentha (Mint)',\n",
       " 'Muntingia Calabura (Jamaica Cherry-Gasagase)',\n",
       " 'Ocimum Tenuiflorum (Tulsi)',\n",
       " 'Pongamia Pinnata (Indian Beech)',\n",
       " 'Jasminum (Jasmine)',\n",
       " 'Psidium Guajava (Guava)',\n",
       " 'Amaranthus Viridis (Arive-Dantu)',\n",
       " 'Pongamia Pinnata (Indian Beech)',\n",
       " 'Citrus Limon (Lemon)',\n",
       " 'Carissa Carandas (Karanda)',\n",
       " 'Basella Alba (Basale)',\n",
       " 'Brassica Juncea (Indian Mustard)',\n",
       " 'Moringa Oleifera (Drumstick)',\n",
       " 'Piper Betle (Betel)',\n",
       " 'Mangifera Indica (Mango)',\n",
       " 'Nerium Oleander (Oleander)',\n",
       " 'Citrus Limon (Lemon)',\n",
       " 'Artocarpus Heterophyllus (Jackfruit)',\n",
       " 'Hibiscus Rosa-sinensis',\n",
       " 'Carissa Carandas (Karanda)',\n",
       " 'Mangifera Indica (Mango)',\n",
       " 'Mentha (Mint)',\n",
       " 'Amaranthus Viridis (Arive-Dantu)',\n",
       " 'Moringa Oleifera (Drumstick)',\n",
       " 'Muntingia Calabura (Jamaica Cherry-Gasagase)',\n",
       " 'Mangifera Indica (Mango)',\n",
       " 'Amaranthus Viridis (Arive-Dantu)',\n",
       " 'Nerium Oleander (Oleander)',\n",
       " 'Moringa Oleifera (Drumstick)',\n",
       " 'Punica Granatum (Pomegranate)',\n",
       " 'Moringa Oleifera (Drumstick)',\n",
       " 'Mentha (Mint)',\n",
       " 'Citrus Limon (Lemon)',\n",
       " 'Artocarpus Heterophyllus (Jackfruit)',\n",
       " 'Ficus Religiosa (Peepal Tree)',\n",
       " 'Moringa Oleifera (Drumstick)',\n",
       " 'Murraya Koenigii (Curry)',\n",
       " 'Carissa Carandas (Karanda)',\n",
       " 'Basella Alba (Basale)',\n",
       " 'Mentha (Mint)',\n",
       " 'Mangifera Indica (Mango)',\n",
       " 'Artocarpus Heterophyllus (Jackfruit)',\n",
       " 'Citrus Limon (Lemon)',\n",
       " 'Nyctanthes Arbor-tristis (Parijata)',\n",
       " 'Basella Alba (Basale)',\n",
       " 'Citrus Limon (Lemon)',\n",
       " 'Ficus Religiosa (Peepal Tree)',\n",
       " 'Citrus Limon (Lemon)',\n",
       " 'Murraya Koenigii (Curry)',\n",
       " 'Ocimum Tenuiflorum (Tulsi)',\n",
       " 'Basella Alba (Basale)',\n",
       " 'Basella Alba (Basale)',\n",
       " 'Muntingia Calabura (Jamaica Cherry-Gasagase)',\n",
       " 'Punica Granatum (Pomegranate)',\n",
       " 'Mentha (Mint)',\n",
       " 'Basella Alba (Basale)',\n",
       " 'Ocimum Tenuiflorum (Tulsi)',\n",
       " 'Jasminum (Jasmine)',\n",
       " 'Nerium Oleander (Oleander)',\n",
       " 'Ficus Religiosa (Peepal Tree)',\n",
       " 'Mangifera Indica (Mango)',\n",
       " 'Artocarpus Heterophyllus (Jackfruit)',\n",
       " 'Murraya Koenigii (Curry)',\n",
       " 'Murraya Koenigii (Curry)',\n",
       " 'Muntingia Calabura (Jamaica Cherry-Gasagase)',\n",
       " 'Amaranthus Viridis (Arive-Dantu)',\n",
       " 'Artocarpus Heterophyllus (Jackfruit)',\n",
       " 'Plectranthus Amboinicus (Mexican Mint)',\n",
       " 'Plectranthus Amboinicus (Mexican Mint)',\n",
       " 'Piper Betle (Betel)',\n",
       " 'Muntingia Calabura (Jamaica Cherry-Gasagase)',\n",
       " 'Basella Alba (Basale)',\n",
       " 'Pongamia Pinnata (Indian Beech)',\n",
       " 'Citrus Limon (Lemon)',\n",
       " 'Alpinia Galanga (Rasna)',\n",
       " 'Murraya Koenigii (Curry)',\n",
       " 'Nerium Oleander (Oleander)',\n",
       " 'Azadirachta Indica (Neem)',\n",
       " 'Punica Granatum (Pomegranate)',\n",
       " 'Carissa Carandas (Karanda)',\n",
       " 'Murraya Koenigii (Curry)',\n",
       " 'Citrus Limon (Lemon)',\n",
       " 'Basella Alba (Basale)',\n",
       " 'Jasminum (Jasmine)',\n",
       " 'Nyctanthes Arbor-tristis (Parijata)',\n",
       " 'Piper Betle (Betel)',\n",
       " 'Mentha (Mint)',\n",
       " 'Azadirachta Indica (Neem)',\n",
       " 'Punica Granatum (Pomegranate)',\n",
       " 'Carissa Carandas (Karanda)',\n",
       " 'Amaranthus Viridis (Arive-Dantu)',\n",
       " 'Ficus Religiosa (Peepal Tree)',\n",
       " 'Santalum Album (Sandalwood)',\n",
       " 'Mentha (Mint)',\n",
       " 'Plectranthus Amboinicus (Mexican Mint)',\n",
       " 'Hibiscus Rosa-sinensis',\n",
       " 'Plectranthus Amboinicus (Mexican Mint)',\n",
       " 'Amaranthus Viridis (Arive-Dantu)',\n",
       " 'Hibiscus Rosa-sinensis',\n",
       " 'Punica Granatum (Pomegranate)',\n",
       " 'Nerium Oleander (Oleander)',\n",
       " 'Plectranthus Amboinicus (Mexican Mint)',\n",
       " 'Basella Alba (Basale)',\n",
       " 'Moringa Oleifera (Drumstick)',\n",
       " 'Moringa Oleifera (Drumstick)',\n",
       " 'Muntingia Calabura (Jamaica Cherry-Gasagase)',\n",
       " 'Plectranthus Amboinicus (Mexican Mint)',\n",
       " 'Ficus Auriculata (Roxburgh fig)',\n",
       " 'Piper Betle (Betel)',\n",
       " 'Ficus Religiosa (Peepal Tree)',\n",
       " 'Psidium Guajava (Guava)',\n",
       " 'Jasminum (Jasmine)',\n",
       " 'Hibiscus Rosa-sinensis',\n",
       " 'Mentha (Mint)',\n",
       " 'Brassica Juncea (Indian Mustard)',\n",
       " 'Psidium Guajava (Guava)',\n",
       " 'Mangifera Indica (Mango)',\n",
       " 'Brassica Juncea (Indian Mustard)',\n",
       " 'Pongamia Pinnata (Indian Beech)',\n",
       " 'Amaranthus Viridis (Arive-Dantu)',\n",
       " 'Amaranthus Viridis (Arive-Dantu)',\n",
       " 'Jasminum (Jasmine)',\n",
       " 'Psidium Guajava (Guava)',\n",
       " 'Jasminum (Jasmine)',\n",
       " 'Piper Betle (Betel)',\n",
       " 'Murraya Koenigii (Curry)',\n",
       " 'Alpinia Galanga (Rasna)',\n",
       " 'Ficus Auriculata (Roxburgh fig)',\n",
       " 'Carissa Carandas (Karanda)',\n",
       " 'Azadirachta Indica (Neem)',\n",
       " 'Mentha (Mint)',\n",
       " 'Alpinia Galanga (Rasna)',\n",
       " 'Pongamia Pinnata (Indian Beech)',\n",
       " 'Hibiscus Rosa-sinensis',\n",
       " 'Amaranthus Viridis (Arive-Dantu)',\n",
       " 'Ocimum Tenuiflorum (Tulsi)',\n",
       " 'Pongamia Pinnata (Indian Beech)',\n",
       " 'Amaranthus Viridis (Arive-Dantu)',\n",
       " 'Amaranthus Viridis (Arive-Dantu)',\n",
       " 'Mentha (Mint)']"
      ]
     },
     "execution_count": 53,
     "metadata": {},
     "output_type": "execute_result"
    }
   ],
   "source": [
    "predicted_classes"
   ]
  },
  {
   "cell_type": "code",
   "execution_count": 54,
   "id": "ddfc5636",
   "metadata": {},
   "outputs": [
    {
     "name": "stdout",
     "output_type": "stream",
     "text": [
      "6/6 - 37s - loss: 0.1914 - accuracy: 0.9669 - 37s/epoch - 6s/step\n"
     ]
    }
   ],
   "source": [
    "loss, accuracy = model.evaluate(t_set, verbose=2)"
   ]
  },
  {
   "cell_type": "code",
   "execution_count": 55,
   "id": "3e24e1d1",
   "metadata": {},
   "outputs": [
    {
     "name": "stdout",
     "output_type": "stream",
     "text": [
      "accuracy on test data is : 97 %\n"
     ]
    }
   ],
   "source": [
    "print(f\"accuracy on test data is : {round(accuracy*100)} %\")"
   ]
  },
  {
   "cell_type": "code",
   "execution_count": null,
   "id": "64ad0008",
   "metadata": {},
   "outputs": [],
   "source": []
  }
 ],
 "metadata": {
  "kernelspec": {
   "display_name": "Python 3",
   "language": "python",
   "name": "python3"
  },
  "language_info": {
   "codemirror_mode": {
    "name": "ipython",
    "version": 3
   },
   "file_extension": ".py",
   "mimetype": "text/x-python",
   "name": "python",
   "nbconvert_exporter": "python",
   "pygments_lexer": "ipython3",
   "version": "3.8.10"
  }
 },
 "nbformat": 4,
 "nbformat_minor": 5
}
