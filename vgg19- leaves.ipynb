{
 "cells": [
  {
   "cell_type": "code",
   "execution_count": 1,
   "id": "c0f35d4c",
   "metadata": {},
   "outputs": [],
   "source": [
    "from tensorflow.keras.layers import Input, Lambda, Dense, Flatten \n",
    "from tensorflow.keras.models import Model\n",
    "from tensorflow.keras.applications.vgg19 import VGG19\n",
    "from tensorflow.keras.preprocessing import image\n",
    "from tensorflow.keras.applications.vgg19 import preprocess_input\n",
    "from tensorflow.keras.preprocessing.image import ImageDataGenerator, load_img\n",
    "from tensorflow.keras.models import Sequential\n",
    "import numpy as np\n",
    "from glob import glob\n",
    "import matplotlib.pyplot as plt"
   ]
  },
  {
   "cell_type": "code",
   "execution_count": 2,
   "id": "1908c170",
   "metadata": {},
   "outputs": [],
   "source": [
    "import splitfolders\n",
    "import os"
   ]
  },
  {
   "cell_type": "code",
   "execution_count": 3,
   "id": "c6aa5070",
   "metadata": {},
   "outputs": [
    {
     "name": "stderr",
     "output_type": "stream",
     "text": [
      "Copying files: 1615 files [00:17, 93.43 files/s] \n"
     ]
    }
   ],
   "source": [
    "image_loc = 'D:\\Medicinal Leaf Dataset'\n",
    "\n",
    "splitfolders.ratio(image_loc, output='output', seed=1337, ratio=(0.8,0.1,0.1))"
   ]
  },
  {
   "cell_type": "code",
   "execution_count": 4,
   "id": "38dda1a5",
   "metadata": {},
   "outputs": [],
   "source": [
    "IMAGE_SIZE = [224,224]\n",
    "\n",
    "train_path = 'output\\\\train'\n",
    "validation_path = 'output\\\\test'"
   ]
  },
  {
   "cell_type": "code",
   "execution_count": 5,
   "id": "d0332009",
   "metadata": {},
   "outputs": [
    {
     "name": "stdout",
     "output_type": "stream",
     "text": [
      "Downloading data from https://storage.googleapis.com/tensorflow/keras-applications/vgg19/vgg19_weights_tf_dim_ordering_tf_kernels_notop.h5\n",
      "80142336/80134624 [==============================] - 6s 0us/step\n",
      "80150528/80134624 [==============================] - 6s 0us/step\n"
     ]
    }
   ],
   "source": [
    "vgg19 = VGG19(input_shape = IMAGE_SIZE + [3], weights = 'imagenet', include_top = False)"
   ]
  },
  {
   "cell_type": "code",
   "execution_count": 6,
   "id": "2f888204",
   "metadata": {},
   "outputs": [
    {
     "name": "stdout",
     "output_type": "stream",
     "text": [
      "Model: \"vgg19\"\n",
      "_________________________________________________________________\n",
      " Layer (type)                Output Shape              Param #   \n",
      "=================================================================\n",
      " input_1 (InputLayer)        [(None, 224, 224, 3)]     0         \n",
      "                                                                 \n",
      " block1_conv1 (Conv2D)       (None, 224, 224, 64)      1792      \n",
      "                                                                 \n",
      " block1_conv2 (Conv2D)       (None, 224, 224, 64)      36928     \n",
      "                                                                 \n",
      " block1_pool (MaxPooling2D)  (None, 112, 112, 64)      0         \n",
      "                                                                 \n",
      " block2_conv1 (Conv2D)       (None, 112, 112, 128)     73856     \n",
      "                                                                 \n",
      " block2_conv2 (Conv2D)       (None, 112, 112, 128)     147584    \n",
      "                                                                 \n",
      " block2_pool (MaxPooling2D)  (None, 56, 56, 128)       0         \n",
      "                                                                 \n",
      " block3_conv1 (Conv2D)       (None, 56, 56, 256)       295168    \n",
      "                                                                 \n",
      " block3_conv2 (Conv2D)       (None, 56, 56, 256)       590080    \n",
      "                                                                 \n",
      " block3_conv3 (Conv2D)       (None, 56, 56, 256)       590080    \n",
      "                                                                 \n",
      " block3_conv4 (Conv2D)       (None, 56, 56, 256)       590080    \n",
      "                                                                 \n",
      " block3_pool (MaxPooling2D)  (None, 28, 28, 256)       0         \n",
      "                                                                 \n",
      " block4_conv1 (Conv2D)       (None, 28, 28, 512)       1180160   \n",
      "                                                                 \n",
      " block4_conv2 (Conv2D)       (None, 28, 28, 512)       2359808   \n",
      "                                                                 \n",
      " block4_conv3 (Conv2D)       (None, 28, 28, 512)       2359808   \n",
      "                                                                 \n",
      " block4_conv4 (Conv2D)       (None, 28, 28, 512)       2359808   \n",
      "                                                                 \n",
      " block4_pool (MaxPooling2D)  (None, 14, 14, 512)       0         \n",
      "                                                                 \n",
      " block5_conv1 (Conv2D)       (None, 14, 14, 512)       2359808   \n",
      "                                                                 \n",
      " block5_conv2 (Conv2D)       (None, 14, 14, 512)       2359808   \n",
      "                                                                 \n",
      " block5_conv3 (Conv2D)       (None, 14, 14, 512)       2359808   \n",
      "                                                                 \n",
      " block5_conv4 (Conv2D)       (None, 14, 14, 512)       2359808   \n",
      "                                                                 \n",
      " block5_pool (MaxPooling2D)  (None, 7, 7, 512)         0         \n",
      "                                                                 \n",
      "=================================================================\n",
      "Total params: 20,024,384\n",
      "Trainable params: 20,024,384\n",
      "Non-trainable params: 0\n",
      "_________________________________________________________________\n"
     ]
    }
   ],
   "source": [
    "vgg19.summary()"
   ]
  },
  {
   "cell_type": "code",
   "execution_count": 8,
   "id": "1c43ef85",
   "metadata": {},
   "outputs": [],
   "source": [
    "for layer in vgg19.layers:\n",
    "    layer.trainable = False"
   ]
  },
  {
   "cell_type": "code",
   "execution_count": 9,
   "id": "c465f5fa",
   "metadata": {},
   "outputs": [],
   "source": [
    "folders = glob('D:\\Medicinal Leaf Dataset\\*')"
   ]
  },
  {
   "cell_type": "code",
   "execution_count": 10,
   "id": "dc1a9c4f",
   "metadata": {},
   "outputs": [],
   "source": [
    "x = Flatten()(vgg19.output)"
   ]
  },
  {
   "cell_type": "code",
   "execution_count": 11,
   "id": "85d477f0",
   "metadata": {},
   "outputs": [],
   "source": [
    "prediction = Dense(len(folders), activation = 'softmax')(x)\n",
    "\n",
    "model = Model(inputs = vgg19.input, outputs = prediction)"
   ]
  },
  {
   "cell_type": "code",
   "execution_count": 12,
   "id": "8e02071d",
   "metadata": {},
   "outputs": [
    {
     "name": "stdout",
     "output_type": "stream",
     "text": [
      "Model: \"model\"\n",
      "_________________________________________________________________\n",
      " Layer (type)                Output Shape              Param #   \n",
      "=================================================================\n",
      " input_1 (InputLayer)        [(None, 224, 224, 3)]     0         \n",
      "                                                                 \n",
      " block1_conv1 (Conv2D)       (None, 224, 224, 64)      1792      \n",
      "                                                                 \n",
      " block1_conv2 (Conv2D)       (None, 224, 224, 64)      36928     \n",
      "                                                                 \n",
      " block1_pool (MaxPooling2D)  (None, 112, 112, 64)      0         \n",
      "                                                                 \n",
      " block2_conv1 (Conv2D)       (None, 112, 112, 128)     73856     \n",
      "                                                                 \n",
      " block2_conv2 (Conv2D)       (None, 112, 112, 128)     147584    \n",
      "                                                                 \n",
      " block2_pool (MaxPooling2D)  (None, 56, 56, 128)       0         \n",
      "                                                                 \n",
      " block3_conv1 (Conv2D)       (None, 56, 56, 256)       295168    \n",
      "                                                                 \n",
      " block3_conv2 (Conv2D)       (None, 56, 56, 256)       590080    \n",
      "                                                                 \n",
      " block3_conv3 (Conv2D)       (None, 56, 56, 256)       590080    \n",
      "                                                                 \n",
      " block3_conv4 (Conv2D)       (None, 56, 56, 256)       590080    \n",
      "                                                                 \n",
      " block3_pool (MaxPooling2D)  (None, 28, 28, 256)       0         \n",
      "                                                                 \n",
      " block4_conv1 (Conv2D)       (None, 28, 28, 512)       1180160   \n",
      "                                                                 \n",
      " block4_conv2 (Conv2D)       (None, 28, 28, 512)       2359808   \n",
      "                                                                 \n",
      " block4_conv3 (Conv2D)       (None, 28, 28, 512)       2359808   \n",
      "                                                                 \n",
      " block4_conv4 (Conv2D)       (None, 28, 28, 512)       2359808   \n",
      "                                                                 \n",
      " block4_pool (MaxPooling2D)  (None, 14, 14, 512)       0         \n",
      "                                                                 \n",
      " block5_conv1 (Conv2D)       (None, 14, 14, 512)       2359808   \n",
      "                                                                 \n",
      " block5_conv2 (Conv2D)       (None, 14, 14, 512)       2359808   \n",
      "                                                                 \n",
      " block5_conv3 (Conv2D)       (None, 14, 14, 512)       2359808   \n",
      "                                                                 \n",
      " block5_conv4 (Conv2D)       (None, 14, 14, 512)       2359808   \n",
      "                                                                 \n",
      " block5_pool (MaxPooling2D)  (None, 7, 7, 512)         0         \n",
      "                                                                 \n",
      " flatten (Flatten)           (None, 25088)             0         \n",
      "                                                                 \n",
      " dense (Dense)               (None, 26)                652314    \n",
      "                                                                 \n",
      "=================================================================\n",
      "Total params: 20,676,698\n",
      "Trainable params: 652,314\n",
      "Non-trainable params: 20,024,384\n",
      "_________________________________________________________________\n"
     ]
    }
   ],
   "source": [
    "model.summary()"
   ]
  },
  {
   "cell_type": "code",
   "execution_count": 13,
   "id": "3290725f",
   "metadata": {},
   "outputs": [],
   "source": [
    "model.compile(\n",
    "loss = 'categorical_crossentropy',optimizer = 'adam',metrics = ['accuracy'])"
   ]
  },
  {
   "cell_type": "code",
   "execution_count": 14,
   "id": "a78b9477",
   "metadata": {},
   "outputs": [],
   "source": [
    "from tensorflow.keras.preprocessing.image import ImageDataGenerator\n",
    "\n",
    "train_dataGen = ImageDataGenerator(rescale=1./255,\n",
    "                                   shear_range = 0.2,\n",
    "                                   zoom_range = 0.2,\n",
    "                                   horizontal_flip = True)\n",
    "\n",
    "test_dataGen  = ImageDataGenerator(rescale = 1./255)"
   ]
  },
  {
   "cell_type": "code",
   "execution_count": 15,
   "id": "89daa212",
   "metadata": {},
   "outputs": [
    {
     "name": "stdout",
     "output_type": "stream",
     "text": [
      "Found 1360 images belonging to 26 classes.\n"
     ]
    }
   ],
   "source": [
    "training_set = train_dataGen.flow_from_directory('output\\\\train',\n",
    "                                                  target_size = (224,224),\n",
    "                                                  batch_size = 32,\n",
    "                                                  class_mode = 'categorical'\n",
    "                                                )"
   ]
  },
  {
   "cell_type": "code",
   "execution_count": 16,
   "id": "4f8a9706",
   "metadata": {},
   "outputs": [
    {
     "name": "stdout",
     "output_type": "stream",
     "text": [
      "Found 333 images belonging to 26 classes.\n"
     ]
    }
   ],
   "source": [
    "val_set = train_dataGen.flow_from_directory('output\\\\val',\n",
    "                                                  target_size = (224,224),\n",
    "                                                  batch_size = 32,\n",
    "                                                  class_mode = 'categorical'\n",
    "                                                )"
   ]
  },
  {
   "cell_type": "code",
   "execution_count": 18,
   "id": "173a3c6e",
   "metadata": {},
   "outputs": [
    {
     "name": "stderr",
     "output_type": "stream",
     "text": [
      "<ipython-input-18-5c48062396c1>:1: UserWarning: `Model.fit_generator` is deprecated and will be removed in a future version. Please use `Model.fit`, which supports generators.\n",
      "  r = model.fit_generator(\n"
     ]
    },
    {
     "name": "stdout",
     "output_type": "stream",
     "text": [
      "Epoch 1/50\n",
      "43/43 [==============================] - 505s 12s/step - loss: 1.9894 - accuracy: 0.5191 - val_loss: 0.6851 - val_accuracy: 0.7928\n",
      "Epoch 2/50\n",
      "43/43 [==============================] - 484s 11s/step - loss: 0.4857 - accuracy: 0.8522 - val_loss: 0.4321 - val_accuracy: 0.8709\n",
      "Epoch 3/50\n",
      "43/43 [==============================] - 480s 11s/step - loss: 0.2810 - accuracy: 0.9176 - val_loss: 0.2901 - val_accuracy: 0.9099\n",
      "Epoch 4/50\n",
      "43/43 [==============================] - 478s 11s/step - loss: 0.2036 - accuracy: 0.9375 - val_loss: 0.2304 - val_accuracy: 0.9339\n",
      "Epoch 5/50\n",
      "43/43 [==============================] - 486s 11s/step - loss: 0.1146 - accuracy: 0.9684 - val_loss: 0.1991 - val_accuracy: 0.9399\n",
      "Epoch 6/50\n",
      "43/43 [==============================] - 483s 11s/step - loss: 0.1001 - accuracy: 0.9743 - val_loss: 0.1309 - val_accuracy: 0.9640\n",
      "Epoch 7/50\n",
      "43/43 [==============================] - 481s 11s/step - loss: 0.1102 - accuracy: 0.9757 - val_loss: 0.1716 - val_accuracy: 0.9369\n",
      "Epoch 8/50\n",
      "43/43 [==============================] - 481s 11s/step - loss: 0.0648 - accuracy: 0.9919 - val_loss: 0.1661 - val_accuracy: 0.9429\n",
      "Epoch 9/50\n",
      "43/43 [==============================] - 482s 11s/step - loss: 0.0730 - accuracy: 0.9816 - val_loss: 0.1754 - val_accuracy: 0.9399\n",
      "Epoch 10/50\n",
      "43/43 [==============================] - 483s 11s/step - loss: 0.0534 - accuracy: 0.9860 - val_loss: 0.1280 - val_accuracy: 0.9640\n",
      "Epoch 11/50\n",
      "43/43 [==============================] - 486s 11s/step - loss: 0.0497 - accuracy: 0.9882 - val_loss: 0.0967 - val_accuracy: 0.9700\n",
      "Epoch 12/50\n",
      "43/43 [==============================] - 482s 11s/step - loss: 0.0935 - accuracy: 0.9757 - val_loss: 0.1678 - val_accuracy: 0.9489\n",
      "Epoch 13/50\n",
      "43/43 [==============================] - 479s 11s/step - loss: 0.0412 - accuracy: 0.9875 - val_loss: 0.1510 - val_accuracy: 0.9520\n",
      "Epoch 14/50\n",
      "43/43 [==============================] - 489s 11s/step - loss: 0.0308 - accuracy: 0.9941 - val_loss: 0.1826 - val_accuracy: 0.9399\n",
      "Epoch 15/50\n",
      "43/43 [==============================] - 538s 13s/step - loss: 0.0475 - accuracy: 0.9853 - val_loss: 0.1111 - val_accuracy: 0.9670\n",
      "Epoch 16/50\n",
      "43/43 [==============================] - 529s 12s/step - loss: 0.0314 - accuracy: 0.9897 - val_loss: 0.0933 - val_accuracy: 0.9760\n",
      "Epoch 17/50\n",
      "43/43 [==============================] - 485s 11s/step - loss: 0.0174 - accuracy: 1.0000 - val_loss: 0.0798 - val_accuracy: 0.9670\n",
      "Epoch 18/50\n",
      "43/43 [==============================] - 485s 11s/step - loss: 0.0225 - accuracy: 0.9941 - val_loss: 0.0876 - val_accuracy: 0.9670\n",
      "Epoch 19/50\n",
      "43/43 [==============================] - 488s 11s/step - loss: 0.0099 - accuracy: 1.0000 - val_loss: 0.0747 - val_accuracy: 0.9700\n",
      "Epoch 20/50\n",
      "43/43 [==============================] - 485s 11s/step - loss: 0.0226 - accuracy: 0.9949 - val_loss: 0.0905 - val_accuracy: 0.9730\n",
      "Epoch 21/50\n",
      "43/43 [==============================] - 484s 11s/step - loss: 0.0546 - accuracy: 0.9824 - val_loss: 0.1032 - val_accuracy: 0.9730\n",
      "Epoch 22/50\n",
      "43/43 [==============================] - 484s 11s/step - loss: 0.0345 - accuracy: 0.9934 - val_loss: 0.1373 - val_accuracy: 0.9520\n",
      "Epoch 23/50\n",
      "43/43 [==============================] - 484s 11s/step - loss: 0.0264 - accuracy: 0.9934 - val_loss: 0.1139 - val_accuracy: 0.9640\n",
      "Epoch 24/50\n",
      "43/43 [==============================] - 485s 11s/step - loss: 0.0145 - accuracy: 0.9985 - val_loss: 0.0820 - val_accuracy: 0.9760\n",
      "Epoch 25/50\n",
      "43/43 [==============================] - 485s 11s/step - loss: 0.0084 - accuracy: 0.9993 - val_loss: 0.0618 - val_accuracy: 0.9880\n",
      "Epoch 26/50\n",
      "43/43 [==============================] - 484s 11s/step - loss: 0.0108 - accuracy: 0.9993 - val_loss: 0.0921 - val_accuracy: 0.9670\n",
      "Epoch 27/50\n",
      "43/43 [==============================] - 442s 10s/step - loss: 0.0128 - accuracy: 0.9993 - val_loss: 0.0824 - val_accuracy: 0.9640\n",
      "Epoch 28/50\n",
      "43/43 [==============================] - 398s 9s/step - loss: 0.0368 - accuracy: 0.9897 - val_loss: 0.0654 - val_accuracy: 0.9760\n",
      "Epoch 29/50\n",
      "43/43 [==============================] - 398s 9s/step - loss: 0.0098 - accuracy: 0.9971 - val_loss: 0.0652 - val_accuracy: 0.9760\n",
      "Epoch 30/50\n",
      "43/43 [==============================] - 243s 6s/step - loss: 0.0207 - accuracy: 0.9956 - val_loss: 0.0791 - val_accuracy: 0.9760\n",
      "Epoch 31/50\n",
      "43/43 [==============================] - 206s 5s/step - loss: 0.0107 - accuracy: 0.9985 - val_loss: 0.1023 - val_accuracy: 0.9640\n",
      "Epoch 32/50\n",
      "43/43 [==============================] - 207s 5s/step - loss: 0.0416 - accuracy: 0.9882 - val_loss: 0.2049 - val_accuracy: 0.9459\n",
      "Epoch 33/50\n",
      "43/43 [==============================] - 209s 5s/step - loss: 0.1060 - accuracy: 0.9662 - val_loss: 0.1198 - val_accuracy: 0.9580\n",
      "Epoch 34/50\n",
      "43/43 [==============================] - 223s 5s/step - loss: 0.0584 - accuracy: 0.9838 - val_loss: 0.1006 - val_accuracy: 0.9760\n",
      "Epoch 35/50\n",
      "43/43 [==============================] - 220s 5s/step - loss: 0.0382 - accuracy: 0.9912 - val_loss: 0.0941 - val_accuracy: 0.9820\n",
      "Epoch 36/50\n",
      "43/43 [==============================] - 211s 5s/step - loss: 0.0284 - accuracy: 0.9912 - val_loss: 0.1809 - val_accuracy: 0.9640\n",
      "Epoch 37/50\n",
      "43/43 [==============================] - 211s 5s/step - loss: 0.0313 - accuracy: 0.9912 - val_loss: 0.1474 - val_accuracy: 0.9700\n",
      "Epoch 38/50\n",
      "43/43 [==============================] - 208s 5s/step - loss: 0.0211 - accuracy: 0.9949 - val_loss: 0.1013 - val_accuracy: 0.9700\n",
      "Epoch 39/50\n",
      "43/43 [==============================] - 206s 5s/step - loss: 0.0138 - accuracy: 0.9963 - val_loss: 0.0992 - val_accuracy: 0.9730\n",
      "Epoch 40/50\n",
      "43/43 [==============================] - 207s 5s/step - loss: 0.0142 - accuracy: 0.9926 - val_loss: 0.1026 - val_accuracy: 0.9730\n",
      "Epoch 41/50\n",
      "43/43 [==============================] - 206s 5s/step - loss: 0.0121 - accuracy: 0.9971 - val_loss: 0.0940 - val_accuracy: 0.9760\n",
      "Epoch 42/50\n",
      "43/43 [==============================] - 206s 5s/step - loss: 0.0088 - accuracy: 0.9971 - val_loss: 0.1237 - val_accuracy: 0.9730\n",
      "Epoch 43/50\n",
      "43/43 [==============================] - 206s 5s/step - loss: 0.0078 - accuracy: 0.9978 - val_loss: 0.0770 - val_accuracy: 0.9790\n",
      "Epoch 44/50\n",
      "43/43 [==============================] - 206s 5s/step - loss: 0.0066 - accuracy: 0.9993 - val_loss: 0.0919 - val_accuracy: 0.9760\n",
      "Epoch 45/50\n",
      "43/43 [==============================] - 206s 5s/step - loss: 0.0047 - accuracy: 0.9985 - val_loss: 0.0881 - val_accuracy: 0.9820\n",
      "Epoch 46/50\n",
      "43/43 [==============================] - 207s 5s/step - loss: 0.0045 - accuracy: 0.9993 - val_loss: 0.1035 - val_accuracy: 0.9730\n",
      "Epoch 47/50\n",
      "43/43 [==============================] - 207s 5s/step - loss: 0.0106 - accuracy: 0.9971 - val_loss: 0.1008 - val_accuracy: 0.9670\n",
      "Epoch 48/50\n",
      "43/43 [==============================] - 207s 5s/step - loss: 0.0022 - accuracy: 1.0000 - val_loss: 0.0907 - val_accuracy: 0.9760\n",
      "Epoch 49/50\n",
      "43/43 [==============================] - 206s 5s/step - loss: 0.0020 - accuracy: 1.0000 - val_loss: 0.0673 - val_accuracy: 0.9820\n",
      "Epoch 50/50\n",
      "43/43 [==============================] - 207s 5s/step - loss: 0.0198 - accuracy: 0.9941 - val_loss: 0.1144 - val_accuracy: 0.9670\n"
     ]
    }
   ],
   "source": [
    "r = model.fit_generator(\n",
    "training_set,\n",
    "validation_data = val_set,epochs = 50,\n",
    "steps_per_epoch = len(training_set),\n",
    "validation_steps = len(val_set)\n",
    ")"
   ]
  },
  {
   "cell_type": "code",
   "execution_count": 19,
   "id": "8e748a2c",
   "metadata": {},
   "outputs": [
    {
     "data": {
      "image/png": "[encoded data removed]",
      "text/plain": [
       "<Figure size 432x288 with 1 Axes>"
      ]
     },
     "metadata": {
      "needs_background": "light"
     },
     "output_type": "display_data"
    },
    {
     "data": {
      "image/png": "[encoded data removed]",
      "text/plain": [
       "<Figure size 432x288 with 1 Axes>"
      ]
     },
     "metadata": {
      "needs_background": "light"
     },
     "output_type": "display_data"
    },
    {
     "data": {
      "text/plain": [
       "<Figure size 432x288 with 0 Axes>"
      ]
     },
     "metadata": {},
     "output_type": "display_data"
    }
   ],
   "source": [
    "plt.plot(r.history['loss'], label = 'train_loss')\n",
    "plt.plot(r.history['val_loss'], label = 'val loss')\n",
    "plt.legend()\n",
    "plt.show()\n",
    "plt.savefig('LossVal_loss')\n",
    "\n",
    "plt.plot(r.history['accuracy'], label = 'train acc')\n",
    "plt.plot(r.history['val_accuracy'], label = 'val acc')\n",
    "plt.legend()\n",
    "plt.show()\n",
    "plt.savefig('AccVal_acc')"
   ]
  },
  {
   "cell_type": "code",
   "execution_count": 20,
   "id": "13a25ffd",
   "metadata": {},
   "outputs": [],
   "source": [
    "from tensorflow.keras.models import load_model\n",
    "\n",
    "model.save('Leaves2.vgg19.h5')"
   ]
  },
  {
   "cell_type": "code",
   "execution_count": 21,
   "id": "2d2cbcd9",
   "metadata": {},
   "outputs": [],
   "source": [
    "from tensorflow.keras.preprocessing import image"
   ]
  },
  {
   "cell_type": "code",
   "execution_count": 22,
   "id": "5f24fb1d",
   "metadata": {},
   "outputs": [
    {
     "name": "stdout",
     "output_type": "stream",
     "text": [
      "Found 181 images belonging to 26 classes.\n"
     ]
    }
   ],
   "source": [
    "t_set = test_dataGen.flow_from_directory('output\\\\test',\n",
    "                                                  target_size = (224,224),\n",
    "                                                  batch_size = 32,\n",
    "                                                  class_mode = 'categorical'\n",
    "                                                )\n"
   ]
  },
  {
   "cell_type": "code",
   "execution_count": 23,
   "id": "c7fe109b",
   "metadata": {},
   "outputs": [],
   "source": [
    "y_pred = model.predict(t_set)"
   ]
  },
  {
   "cell_type": "code",
   "execution_count": 24,
   "id": "dc1783af",
   "metadata": {},
   "outputs": [
    {
     "data": {
      "text/plain": [
       "array([[1.1601904e-21, 1.3083717e-06, 1.7642915e-09, ..., 5.6606577e-16,\n",
       "        7.0629918e-05, 2.9368608e-09],\n",
       "       [5.0191732e-19, 2.9041018e-06, 1.3953369e-13, ..., 4.3543941e-14,\n",
       "        1.0009031e-09, 1.9621406e-10],\n",
       "       [3.5568398e-20, 4.2325787e-12, 1.1305445e-08, ..., 7.7139316e-11,\n",
       "        4.0358555e-14, 4.5885659e-14],\n",
       "       ...,\n",
       "       [4.7924234e-19, 9.7601143e-05, 1.0489755e-04, ..., 2.4422588e-05,\n",
       "        5.0015233e-02, 8.2461554e-01],\n",
       "       [1.2365401e-24, 9.5930903e-15, 1.6652897e-20, ..., 7.9732688e-16,\n",
       "        1.8623271e-09, 7.8486068e-16],\n",
       "       [3.0476203e-21, 5.9616327e-06, 3.9451957e-12, ..., 8.4605135e-11,\n",
       "        7.8625391e-09, 3.3642243e-07]], dtype=float32)"
      ]
     },
     "execution_count": 24,
     "metadata": {},
     "output_type": "execute_result"
    }
   ],
   "source": [
    "y_pred"
   ]
  },
  {
   "cell_type": "code",
   "execution_count": 25,
   "id": "4c69e57c",
   "metadata": {},
   "outputs": [],
   "source": [
    "import numpy as np\n",
    "y_pred = np.argmax(y_pred, axis = 1)"
   ]
  },
  {
   "cell_type": "code",
   "execution_count": 26,
   "id": "edc67f36",
   "metadata": {},
   "outputs": [
    {
     "data": {
      "text/plain": [
       "array([22, 21,  6,  3,  4, 15, 16,  0, 24,  4,  4,  2, 11, 17, 13, 15, 11,\n",
       "       15,  2, 24, 14, 17,  2,  5, 12, 18, 22, 23,  8, 13,  8, 16, 23, 16,\n",
       "        6, 13,  4,  4, 20, 23, 24, 10,  5, 16, 13,  9,  7,  9, 22, 15,  1,\n",
       "        7, 13,  8, 23,  4, 14,  4, 24,  7,  1, 12,  1, 14, 12,  1, 21, 19,\n",
       "       17, 11, 20, 21, 11, 20,  4,  7, 13, 12,  6,  9, 18, 19, 24,  1, 10,\n",
       "       17, 14, 24,  2,  0, 23, 19,  3, 14, 17,  6, 19, 14,  2, 13, 21, 15,\n",
       "       24,  7, 14, 17,  8, 16, 24,  6, 14, 11, 17,  3,  4,  1,  4, 13, 20,\n",
       "       22, 14,  9,  1, 22, 20, 18,  6,  4,  1, 13, 11,  0, 19, 11, 22, 10,\n",
       "        7, 16, 15,  1,  5,  0, 12, 22, 24, 12,  1, 24, 24, 11, 25,  9, 18,\n",
       "       21, 21, 16,  2, 20, 13,  1, 11, 10, 16,  6, 24, 23,  9,  1,  3,  0,\n",
       "        5, 23, 15, 10,  6,  7,  9,  2, 25, 13, 19], dtype=int64)"
      ]
     },
     "execution_count": 26,
     "metadata": {},
     "output_type": "execute_result"
    }
   ],
   "source": [
    "y_pred"
   ]
  },
  {
   "cell_type": "code",
   "execution_count": 27,
   "id": "ad1b5338",
   "metadata": {},
   "outputs": [],
   "source": [
    "from keras.models import load_model\n",
    "model = load_model('Leaves2.vgg19.h5')"
   ]
  },
  {
   "cell_type": "code",
   "execution_count": 28,
   "id": "5dfb9784",
   "metadata": {},
   "outputs": [],
   "source": [
    "files = glob('output\\\\train\\\\*')"
   ]
  },
  {
   "cell_type": "code",
   "execution_count": 29,
   "id": "17c797bc",
   "metadata": {},
   "outputs": [
    {
     "data": {
      "text/plain": [
       "['Alpinia Galanga (Rasna)',\n",
       " 'Amaranthus Viridis (Arive-Dantu)',\n",
       " 'Artocarpus Heterophyllus (Jackfruit)',\n",
       " 'Azadirachta Indica (Neem)',\n",
       " 'Basella Alba (Basale)',\n",
       " 'Brassica Juncea (Indian Mustard)',\n",
       " 'Carissa Carandas (Karanda)',\n",
       " 'Citrus Limon (Lemon)',\n",
       " 'Ficus Auriculata (Roxburgh fig)',\n",
       " 'Ficus Religiosa (Peepal Tree)',\n",
       " 'Hibiscus Rosa-sinensis',\n",
       " 'Jasminum (Jasmine)',\n",
       " 'Mangifera Indica (Mango)',\n",
       " 'Mentha (Mint)',\n",
       " 'Moringa Oleifera (Drumstick)',\n",
       " 'Muntingia Calabura (Jamaica Cherry-Gasagase)',\n",
       " 'Murraya Koenigii (Curry)',\n",
       " 'Nerium Oleander (Oleander)',\n",
       " 'Nyctanthes Arbor-tristis (Parijata)',\n",
       " 'Ocimum Tenuiflorum (Tulsi)',\n",
       " 'Piper Betle (Betel)',\n",
       " 'Plectranthus Amboinicus (Mexican Mint)',\n",
       " 'Pongamia Pinnata (Indian Beech)',\n",
       " 'Psidium Guajava (Guava)',\n",
       " 'Punica Granatum (Pomegranate)',\n",
       " 'Santalum Album (Sandalwood)']"
      ]
     },
     "execution_count": 29,
     "metadata": {},
     "output_type": "execute_result"
    }
   ],
   "source": [
    "files = list(map(lambda x: x.replace('output\\\\train\\\\',''),files))\n",
    "files"
   ]
  },
  {
   "cell_type": "code",
   "execution_count": 30,
   "id": "a4b4bfd5",
   "metadata": {},
   "outputs": [
    {
     "data": {
      "text/plain": [
       "{0: 'Alpinia Galanga (Rasna)',\n",
       " 1: 'Amaranthus Viridis (Arive-Dantu)',\n",
       " 2: 'Artocarpus Heterophyllus (Jackfruit)',\n",
       " 3: 'Azadirachta Indica (Neem)',\n",
       " 4: 'Basella Alba (Basale)',\n",
       " 5: 'Brassica Juncea (Indian Mustard)',\n",
       " 6: 'Carissa Carandas (Karanda)',\n",
       " 7: 'Citrus Limon (Lemon)',\n",
       " 8: 'Ficus Auriculata (Roxburgh fig)',\n",
       " 9: 'Ficus Religiosa (Peepal Tree)',\n",
       " 10: 'Hibiscus Rosa-sinensis',\n",
       " 11: 'Jasminum (Jasmine)',\n",
       " 12: 'Mangifera Indica (Mango)',\n",
       " 13: 'Mentha (Mint)',\n",
       " 14: 'Moringa Oleifera (Drumstick)',\n",
       " 15: 'Muntingia Calabura (Jamaica Cherry-Gasagase)',\n",
       " 16: 'Murraya Koenigii (Curry)',\n",
       " 17: 'Nerium Oleander (Oleander)',\n",
       " 18: 'Nyctanthes Arbor-tristis (Parijata)',\n",
       " 19: 'Ocimum Tenuiflorum (Tulsi)',\n",
       " 20: 'Piper Betle (Betel)',\n",
       " 21: 'Plectranthus Amboinicus (Mexican Mint)',\n",
       " 22: 'Pongamia Pinnata (Indian Beech)',\n",
       " 23: 'Psidium Guajava (Guava)',\n",
       " 24: 'Punica Granatum (Pomegranate)',\n",
       " 25: 'Santalum Album (Sandalwood)'}"
      ]
     },
     "execution_count": 30,
     "metadata": {},
     "output_type": "execute_result"
    }
   ],
   "source": [
    "name_id_map = { i : files[i] for i in range(0, len(files) ) }\n",
    "name_id_map"
   ]
  },
  {
   "cell_type": "code",
   "execution_count": 31,
   "id": "1276dddf",
   "metadata": {},
   "outputs": [
    {
     "data": {
      "text/plain": [
       "array([22, 21,  6,  3,  4, 15, 16,  0, 24,  4,  4,  2, 11, 17, 13, 15, 11,\n",
       "       15,  2, 24, 14, 17,  2,  5, 12, 18, 22, 23,  8, 13,  8, 16, 23, 16,\n",
       "        6, 13,  4,  4, 20, 23, 24, 10,  5, 16, 13,  9,  7,  9, 22, 15,  1,\n",
       "        7, 13,  8, 23,  4, 14,  4, 24,  7,  1, 12,  1, 14, 12,  1, 21, 19,\n",
       "       17, 11, 20, 21, 11, 20,  4,  7, 13, 12,  6,  9, 18, 19, 24,  1, 10,\n",
       "       17, 14, 24,  2,  0, 23, 19,  3, 14, 17,  6, 19, 14,  2, 13, 21, 15,\n",
       "       24,  7, 14, 17,  8, 16, 24,  6, 14, 11, 17,  3,  4,  1,  4, 13, 20,\n",
       "       22, 14,  9,  1, 22, 20, 18,  6,  4,  1, 13, 11,  0, 19, 11, 22, 10,\n",
       "        7, 16, 15,  1,  5,  0, 12, 22, 24, 12,  1, 24, 24, 11, 25,  9, 18,\n",
       "       21, 21, 16,  2, 20, 13,  1, 11, 10, 16,  6, 24, 23,  9,  1,  3,  0,\n",
       "        5, 23, 15, 10,  6,  7,  9,  2, 25, 13, 19], dtype=int64)"
      ]
     },
     "execution_count": 31,
     "metadata": {},
     "output_type": "execute_result"
    }
   ],
   "source": [
    "y_pred"
   ]
  },
  {
   "cell_type": "code",
   "execution_count": 32,
   "id": "0868fd35",
   "metadata": {},
   "outputs": [],
   "source": [
    "predicted_classes = list(map(name_id_map.get, y_pred))"
   ]
  },
  {
   "cell_type": "code",
   "execution_count": 33,
   "id": "d1fda709",
   "metadata": {},
   "outputs": [
    {
     "data": {
      "text/plain": [
       "['Pongamia Pinnata (Indian Beech)',\n",
       " 'Plectranthus Amboinicus (Mexican Mint)',\n",
       " 'Carissa Carandas (Karanda)',\n",
       " 'Azadirachta Indica (Neem)',\n",
       " 'Basella Alba (Basale)',\n",
       " 'Muntingia Calabura (Jamaica Cherry-Gasagase)',\n",
       " 'Murraya Koenigii (Curry)',\n",
       " 'Alpinia Galanga (Rasna)',\n",
       " 'Punica Granatum (Pomegranate)',\n",
       " 'Basella Alba (Basale)',\n",
       " 'Basella Alba (Basale)',\n",
       " 'Artocarpus Heterophyllus (Jackfruit)',\n",
       " 'Jasminum (Jasmine)',\n",
       " 'Nerium Oleander (Oleander)',\n",
       " 'Mentha (Mint)',\n",
       " 'Muntingia Calabura (Jamaica Cherry-Gasagase)',\n",
       " 'Jasminum (Jasmine)',\n",
       " 'Muntingia Calabura (Jamaica Cherry-Gasagase)',\n",
       " 'Artocarpus Heterophyllus (Jackfruit)',\n",
       " 'Punica Granatum (Pomegranate)',\n",
       " 'Moringa Oleifera (Drumstick)',\n",
       " 'Nerium Oleander (Oleander)',\n",
       " 'Artocarpus Heterophyllus (Jackfruit)',\n",
       " 'Brassica Juncea (Indian Mustard)',\n",
       " 'Mangifera Indica (Mango)',\n",
       " 'Nyctanthes Arbor-tristis (Parijata)',\n",
       " 'Pongamia Pinnata (Indian Beech)',\n",
       " 'Psidium Guajava (Guava)',\n",
       " 'Ficus Auriculata (Roxburgh fig)',\n",
       " 'Mentha (Mint)',\n",
       " 'Ficus Auriculata (Roxburgh fig)',\n",
       " 'Murraya Koenigii (Curry)',\n",
       " 'Psidium Guajava (Guava)',\n",
       " 'Murraya Koenigii (Curry)',\n",
       " 'Carissa Carandas (Karanda)',\n",
       " 'Mentha (Mint)',\n",
       " 'Basella Alba (Basale)',\n",
       " 'Basella Alba (Basale)',\n",
       " 'Piper Betle (Betel)',\n",
       " 'Psidium Guajava (Guava)',\n",
       " 'Punica Granatum (Pomegranate)',\n",
       " 'Hibiscus Rosa-sinensis',\n",
       " 'Brassica Juncea (Indian Mustard)',\n",
       " 'Murraya Koenigii (Curry)',\n",
       " 'Mentha (Mint)',\n",
       " 'Ficus Religiosa (Peepal Tree)',\n",
       " 'Citrus Limon (Lemon)',\n",
       " 'Ficus Religiosa (Peepal Tree)',\n",
       " 'Pongamia Pinnata (Indian Beech)',\n",
       " 'Muntingia Calabura (Jamaica Cherry-Gasagase)',\n",
       " 'Amaranthus Viridis (Arive-Dantu)',\n",
       " 'Citrus Limon (Lemon)',\n",
       " 'Mentha (Mint)',\n",
       " 'Ficus Auriculata (Roxburgh fig)',\n",
       " 'Psidium Guajava (Guava)',\n",
       " 'Basella Alba (Basale)',\n",
       " 'Moringa Oleifera (Drumstick)',\n",
       " 'Basella Alba (Basale)',\n",
       " 'Punica Granatum (Pomegranate)',\n",
       " 'Citrus Limon (Lemon)',\n",
       " 'Amaranthus Viridis (Arive-Dantu)',\n",
       " 'Mangifera Indica (Mango)',\n",
       " 'Amaranthus Viridis (Arive-Dantu)',\n",
       " 'Moringa Oleifera (Drumstick)',\n",
       " 'Mangifera Indica (Mango)',\n",
       " 'Amaranthus Viridis (Arive-Dantu)',\n",
       " 'Plectranthus Amboinicus (Mexican Mint)',\n",
       " 'Ocimum Tenuiflorum (Tulsi)',\n",
       " 'Nerium Oleander (Oleander)',\n",
       " 'Jasminum (Jasmine)',\n",
       " 'Piper Betle (Betel)',\n",
       " 'Plectranthus Amboinicus (Mexican Mint)',\n",
       " 'Jasminum (Jasmine)',\n",
       " 'Piper Betle (Betel)',\n",
       " 'Basella Alba (Basale)',\n",
       " 'Citrus Limon (Lemon)',\n",
       " 'Mentha (Mint)',\n",
       " 'Mangifera Indica (Mango)',\n",
       " 'Carissa Carandas (Karanda)',\n",
       " 'Ficus Religiosa (Peepal Tree)',\n",
       " 'Nyctanthes Arbor-tristis (Parijata)',\n",
       " 'Ocimum Tenuiflorum (Tulsi)',\n",
       " 'Punica Granatum (Pomegranate)',\n",
       " 'Amaranthus Viridis (Arive-Dantu)',\n",
       " 'Hibiscus Rosa-sinensis',\n",
       " 'Nerium Oleander (Oleander)',\n",
       " 'Moringa Oleifera (Drumstick)',\n",
       " 'Punica Granatum (Pomegranate)',\n",
       " 'Artocarpus Heterophyllus (Jackfruit)',\n",
       " 'Alpinia Galanga (Rasna)',\n",
       " 'Psidium Guajava (Guava)',\n",
       " 'Ocimum Tenuiflorum (Tulsi)',\n",
       " 'Azadirachta Indica (Neem)',\n",
       " 'Moringa Oleifera (Drumstick)',\n",
       " 'Nerium Oleander (Oleander)',\n",
       " 'Carissa Carandas (Karanda)',\n",
       " 'Ocimum Tenuiflorum (Tulsi)',\n",
       " 'Moringa Oleifera (Drumstick)',\n",
       " 'Artocarpus Heterophyllus (Jackfruit)',\n",
       " 'Mentha (Mint)',\n",
       " 'Plectranthus Amboinicus (Mexican Mint)',\n",
       " 'Muntingia Calabura (Jamaica Cherry-Gasagase)',\n",
       " 'Punica Granatum (Pomegranate)',\n",
       " 'Citrus Limon (Lemon)',\n",
       " 'Moringa Oleifera (Drumstick)',\n",
       " 'Nerium Oleander (Oleander)',\n",
       " 'Ficus Auriculata (Roxburgh fig)',\n",
       " 'Murraya Koenigii (Curry)',\n",
       " 'Punica Granatum (Pomegranate)',\n",
       " 'Carissa Carandas (Karanda)',\n",
       " 'Moringa Oleifera (Drumstick)',\n",
       " 'Jasminum (Jasmine)',\n",
       " 'Nerium Oleander (Oleander)',\n",
       " 'Azadirachta Indica (Neem)',\n",
       " 'Basella Alba (Basale)',\n",
       " 'Amaranthus Viridis (Arive-Dantu)',\n",
       " 'Basella Alba (Basale)',\n",
       " 'Mentha (Mint)',\n",
       " 'Piper Betle (Betel)',\n",
       " 'Pongamia Pinnata (Indian Beech)',\n",
       " 'Moringa Oleifera (Drumstick)',\n",
       " 'Ficus Religiosa (Peepal Tree)',\n",
       " 'Amaranthus Viridis (Arive-Dantu)',\n",
       " 'Pongamia Pinnata (Indian Beech)',\n",
       " 'Piper Betle (Betel)',\n",
       " 'Nyctanthes Arbor-tristis (Parijata)',\n",
       " 'Carissa Carandas (Karanda)',\n",
       " 'Basella Alba (Basale)',\n",
       " 'Amaranthus Viridis (Arive-Dantu)',\n",
       " 'Mentha (Mint)',\n",
       " 'Jasminum (Jasmine)',\n",
       " 'Alpinia Galanga (Rasna)',\n",
       " 'Ocimum Tenuiflorum (Tulsi)',\n",
       " 'Jasminum (Jasmine)',\n",
       " 'Pongamia Pinnata (Indian Beech)',\n",
       " 'Hibiscus Rosa-sinensis',\n",
       " 'Citrus Limon (Lemon)',\n",
       " 'Murraya Koenigii (Curry)',\n",
       " 'Muntingia Calabura (Jamaica Cherry-Gasagase)',\n",
       " 'Amaranthus Viridis (Arive-Dantu)',\n",
       " 'Brassica Juncea (Indian Mustard)',\n",
       " 'Alpinia Galanga (Rasna)',\n",
       " 'Mangifera Indica (Mango)',\n",
       " 'Pongamia Pinnata (Indian Beech)',\n",
       " 'Punica Granatum (Pomegranate)',\n",
       " 'Mangifera Indica (Mango)',\n",
       " 'Amaranthus Viridis (Arive-Dantu)',\n",
       " 'Punica Granatum (Pomegranate)',\n",
       " 'Punica Granatum (Pomegranate)',\n",
       " 'Jasminum (Jasmine)',\n",
       " 'Santalum Album (Sandalwood)',\n",
       " 'Ficus Religiosa (Peepal Tree)',\n",
       " 'Nyctanthes Arbor-tristis (Parijata)',\n",
       " 'Plectranthus Amboinicus (Mexican Mint)',\n",
       " 'Plectranthus Amboinicus (Mexican Mint)',\n",
       " 'Murraya Koenigii (Curry)',\n",
       " 'Artocarpus Heterophyllus (Jackfruit)',\n",
       " 'Piper Betle (Betel)',\n",
       " 'Mentha (Mint)',\n",
       " 'Amaranthus Viridis (Arive-Dantu)',\n",
       " 'Jasminum (Jasmine)',\n",
       " 'Hibiscus Rosa-sinensis',\n",
       " 'Murraya Koenigii (Curry)',\n",
       " 'Carissa Carandas (Karanda)',\n",
       " 'Punica Granatum (Pomegranate)',\n",
       " 'Psidium Guajava (Guava)',\n",
       " 'Ficus Religiosa (Peepal Tree)',\n",
       " 'Amaranthus Viridis (Arive-Dantu)',\n",
       " 'Azadirachta Indica (Neem)',\n",
       " 'Alpinia Galanga (Rasna)',\n",
       " 'Brassica Juncea (Indian Mustard)',\n",
       " 'Psidium Guajava (Guava)',\n",
       " 'Muntingia Calabura (Jamaica Cherry-Gasagase)',\n",
       " 'Hibiscus Rosa-sinensis',\n",
       " 'Carissa Carandas (Karanda)',\n",
       " 'Citrus Limon (Lemon)',\n",
       " 'Ficus Religiosa (Peepal Tree)',\n",
       " 'Artocarpus Heterophyllus (Jackfruit)',\n",
       " 'Santalum Album (Sandalwood)',\n",
       " 'Mentha (Mint)',\n",
       " 'Ocimum Tenuiflorum (Tulsi)']"
      ]
     },
     "execution_count": 33,
     "metadata": {},
     "output_type": "execute_result"
    }
   ],
   "source": [
    "predicted_classes"
   ]
  },
  {
   "cell_type": "code",
   "execution_count": 34,
   "id": "525b11b1",
   "metadata": {},
   "outputs": [
    {
     "name": "stdout",
     "output_type": "stream",
     "text": [
      "6/6 - 38s - loss: 0.1744 - accuracy: 0.9558 - 38s/epoch - 6s/step\n"
     ]
    }
   ],
   "source": [
    "loss, accuracy = model.evaluate(t_set, verbose=2)\n"
   ]
  },
  {
   "cell_type": "code",
   "execution_count": 35,
   "id": "3c353f05",
   "metadata": {},
   "outputs": [
    {
     "name": "stdout",
     "output_type": "stream",
     "text": [
      "accuracy on test data is : 96 %\n"
     ]
    }
   ],
   "source": [
    "print(f\"accuracy on test data is : {round(accuracy*100)} %\")"
   ]
  },
  {
   "cell_type": "code",
   "execution_count": null,
   "id": "656643f6",
   "metadata": {},
   "outputs": [],
   "source": []
  }
 ],
 "metadata": {
  "kernelspec": {
   "display_name": "Python 3",
   "language": "python",
   "name": "python3"
  },
  "language_info": {
   "codemirror_mode": {
    "name": "ipython",
    "version": 3
   },
   "file_extension": ".py",
   "mimetype": "text/x-python",
   "name": "python",
   "nbconvert_exporter": "python",
   "pygments_lexer": "ipython3",
   "version": "3.8.10"
  }
 },
 "nbformat": 4,
 "nbformat_minor": 5
}
